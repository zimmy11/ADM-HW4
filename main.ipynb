{
 "cells": [
  {
   "cell_type": "markdown",
   "metadata": {},
   "source": [
    "# **Homework 4 - Movie Recommendation System**\n",
    "\n",
    "*Group#13*\n",
    "\n",
    "- **Marco Zimmatore** - [zimmatore.1947442@studenti.uniroma1.it](mailto:zimmatore.1947442@studenti.uniroma1.it)\n",
    "- **Pierre Risi** - [risi.1914164@studenti.uniroma1.it](mailto:Risi.1914164@studenti.uniroma1.it)\n",
    "- **Mattia Visciglio** - [visciglio.1914536@studenti.uniroma1.it](mailto:visciglio.1914536@studenti.uniroma1.it)\n",
    "- **Laura Moreno** - [la.morenorod@gmail.com](mailto:la.morenorod@gmail.com)\n",
    "\n",
    "___"
   ]
  },
  {
   "cell_type": "code",
   "execution_count": 1,
   "metadata": {},
   "outputs": [],
   "source": [
    "%matplotlib inline\n",
    "import pandas as pd\n",
    "import numpy as np\n",
    "import matplotlib.pyplot as plt\n",
    "import seaborn as sns\n",
    "import functions\n",
    "import warnings\n",
    "warnings.filterwarnings(\"ignore\")"
   ]
  },
  {
   "cell_type": "markdown",
   "metadata": {},
   "source": [
    "## **1. Recommendation System with LSH**\n",
    "___"
   ]
  },
  {
   "cell_type": "markdown",
   "metadata": {},
   "source": [
    "### **1.1 Data preparation** \n",
    "Explore the dataset to understand the structure and identify any preprocessing steps needed."
   ]
  },
  {
   "cell_type": "markdown",
   "metadata": {},
   "source": [
    "#### **Exploring the Dataset**\n",
    "We load into two Dataframes the content of the *CSV* files `rating.csv` and `movie.csv`, that will be crucial to build our Reccomender System."
   ]
  },
  {
   "cell_type": "code",
   "execution_count": 2,
   "metadata": {},
   "outputs": [
    {
     "data": {
      "text/html": [
       "<div>\n",
       "<style scoped>\n",
       "    .dataframe tbody tr th:only-of-type {\n",
       "        vertical-align: middle;\n",
       "    }\n",
       "\n",
       "    .dataframe tbody tr th {\n",
       "        vertical-align: top;\n",
       "    }\n",
       "\n",
       "    .dataframe thead th {\n",
       "        text-align: right;\n",
       "    }\n",
       "</style>\n",
       "<table border=\"1\" class=\"dataframe\">\n",
       "  <thead>\n",
       "    <tr style=\"text-align: right;\">\n",
       "      <th></th>\n",
       "      <th>movieId</th>\n",
       "      <th>title</th>\n",
       "      <th>genres</th>\n",
       "    </tr>\n",
       "  </thead>\n",
       "  <tbody>\n",
       "    <tr>\n",
       "      <th>0</th>\n",
       "      <td>1</td>\n",
       "      <td>Toy Story (1995)</td>\n",
       "      <td>Adventure|Animation|Children|Comedy|Fantasy</td>\n",
       "    </tr>\n",
       "    <tr>\n",
       "      <th>1</th>\n",
       "      <td>2</td>\n",
       "      <td>Jumanji (1995)</td>\n",
       "      <td>Adventure|Children|Fantasy</td>\n",
       "    </tr>\n",
       "    <tr>\n",
       "      <th>2</th>\n",
       "      <td>3</td>\n",
       "      <td>Grumpier Old Men (1995)</td>\n",
       "      <td>Comedy|Romance</td>\n",
       "    </tr>\n",
       "    <tr>\n",
       "      <th>3</th>\n",
       "      <td>4</td>\n",
       "      <td>Waiting to Exhale (1995)</td>\n",
       "      <td>Comedy|Drama|Romance</td>\n",
       "    </tr>\n",
       "    <tr>\n",
       "      <th>4</th>\n",
       "      <td>5</td>\n",
       "      <td>Father of the Bride Part II (1995)</td>\n",
       "      <td>Comedy</td>\n",
       "    </tr>\n",
       "  </tbody>\n",
       "</table>\n",
       "</div>"
      ],
      "text/plain": [
       "   movieId                               title  \\\n",
       "0        1                    Toy Story (1995)   \n",
       "1        2                      Jumanji (1995)   \n",
       "2        3             Grumpier Old Men (1995)   \n",
       "3        4            Waiting to Exhale (1995)   \n",
       "4        5  Father of the Bride Part II (1995)   \n",
       "\n",
       "                                        genres  \n",
       "0  Adventure|Animation|Children|Comedy|Fantasy  \n",
       "1                   Adventure|Children|Fantasy  \n",
       "2                               Comedy|Romance  \n",
       "3                         Comedy|Drama|Romance  \n",
       "4                                       Comedy  "
      ]
     },
     "execution_count": 2,
     "metadata": {},
     "output_type": "execute_result"
    }
   ],
   "source": [
    "movies_dir = \"../movie.csv\"\n",
    "dataset_movies = pd.read_csv(movies_dir)\n",
    "dataset_movies.head()"
   ]
  },
  {
   "cell_type": "markdown",
   "metadata": {},
   "source": [
    "> Printing the dataframe, we can see that some rows have the expression *(no genres listed)* in the `genres` column"
   ]
  },
  {
   "cell_type": "code",
   "execution_count": 3,
   "metadata": {},
   "outputs": [
    {
     "data": {
      "text/html": [
       "<div>\n",
       "<style scoped>\n",
       "    .dataframe tbody tr th:only-of-type {\n",
       "        vertical-align: middle;\n",
       "    }\n",
       "\n",
       "    .dataframe tbody tr th {\n",
       "        vertical-align: top;\n",
       "    }\n",
       "\n",
       "    .dataframe thead th {\n",
       "        text-align: right;\n",
       "    }\n",
       "</style>\n",
       "<table border=\"1\" class=\"dataframe\">\n",
       "  <thead>\n",
       "    <tr style=\"text-align: right;\">\n",
       "      <th></th>\n",
       "      <th>movieId</th>\n",
       "      <th>title</th>\n",
       "      <th>genres</th>\n",
       "    </tr>\n",
       "  </thead>\n",
       "  <tbody>\n",
       "    <tr>\n",
       "      <th>16574</th>\n",
       "      <td>83773</td>\n",
       "      <td>Away with Words (San tiao ren) (1999)</td>\n",
       "      <td>(no genres listed)</td>\n",
       "    </tr>\n",
       "    <tr>\n",
       "      <th>16589</th>\n",
       "      <td>83829</td>\n",
       "      <td>Scorpio Rising (1964)</td>\n",
       "      <td>(no genres listed)</td>\n",
       "    </tr>\n",
       "    <tr>\n",
       "      <th>16764</th>\n",
       "      <td>84768</td>\n",
       "      <td>Glitterbug (1994)</td>\n",
       "      <td>(no genres listed)</td>\n",
       "    </tr>\n",
       "    <tr>\n",
       "      <th>17080</th>\n",
       "      <td>86493</td>\n",
       "      <td>Age of the Earth, The (A Idade da Terra) (1980)</td>\n",
       "      <td>(no genres listed)</td>\n",
       "    </tr>\n",
       "    <tr>\n",
       "      <th>17243</th>\n",
       "      <td>87061</td>\n",
       "      <td>Trails (Veredas) (1978)</td>\n",
       "      <td>(no genres listed)</td>\n",
       "    </tr>\n",
       "    <tr>\n",
       "      <th>...</th>\n",
       "      <td>...</td>\n",
       "      <td>...</td>\n",
       "      <td>...</td>\n",
       "    </tr>\n",
       "    <tr>\n",
       "      <th>27216</th>\n",
       "      <td>131082</td>\n",
       "      <td>Playground (2009)</td>\n",
       "      <td>(no genres listed)</td>\n",
       "    </tr>\n",
       "    <tr>\n",
       "      <th>27229</th>\n",
       "      <td>131108</td>\n",
       "      <td>The Fearless Four (1997)</td>\n",
       "      <td>(no genres listed)</td>\n",
       "    </tr>\n",
       "    <tr>\n",
       "      <th>27258</th>\n",
       "      <td>131166</td>\n",
       "      <td>WWII IN HD (2009)</td>\n",
       "      <td>(no genres listed)</td>\n",
       "    </tr>\n",
       "    <tr>\n",
       "      <th>27261</th>\n",
       "      <td>131172</td>\n",
       "      <td>Closed Curtain (2013)</td>\n",
       "      <td>(no genres listed)</td>\n",
       "    </tr>\n",
       "    <tr>\n",
       "      <th>27276</th>\n",
       "      <td>131260</td>\n",
       "      <td>Rentun Ruusu (2001)</td>\n",
       "      <td>(no genres listed)</td>\n",
       "    </tr>\n",
       "  </tbody>\n",
       "</table>\n",
       "<p>246 rows × 3 columns</p>\n",
       "</div>"
      ],
      "text/plain": [
       "       movieId                                            title  \\\n",
       "16574    83773            Away with Words (San tiao ren) (1999)   \n",
       "16589    83829                            Scorpio Rising (1964)   \n",
       "16764    84768                                Glitterbug (1994)   \n",
       "17080    86493  Age of the Earth, The (A Idade da Terra) (1980)   \n",
       "17243    87061                          Trails (Veredas) (1978)   \n",
       "...        ...                                              ...   \n",
       "27216   131082                                Playground (2009)   \n",
       "27229   131108                         The Fearless Four (1997)   \n",
       "27258   131166                                WWII IN HD (2009)   \n",
       "27261   131172                            Closed Curtain (2013)   \n",
       "27276   131260                              Rentun Ruusu (2001)   \n",
       "\n",
       "                   genres  \n",
       "16574  (no genres listed)  \n",
       "16589  (no genres listed)  \n",
       "16764  (no genres listed)  \n",
       "17080  (no genres listed)  \n",
       "17243  (no genres listed)  \n",
       "...                   ...  \n",
       "27216  (no genres listed)  \n",
       "27229  (no genres listed)  \n",
       "27258  (no genres listed)  \n",
       "27261  (no genres listed)  \n",
       "27276  (no genres listed)  \n",
       "\n",
       "[246 rows x 3 columns]"
      ]
     },
     "execution_count": 3,
     "metadata": {},
     "output_type": "execute_result"
    }
   ],
   "source": [
    "dataset_movies[dataset_movies[\"genres\"] == \"(no genres listed)\"]"
   ]
  },
  {
   "cell_type": "markdown",
   "metadata": {},
   "source": [
    "> We replace the string *(no genres listed)* with an empty string"
   ]
  },
  {
   "cell_type": "code",
   "execution_count": 4,
   "metadata": {},
   "outputs": [
    {
     "data": {
      "text/html": [
       "<div>\n",
       "<style scoped>\n",
       "    .dataframe tbody tr th:only-of-type {\n",
       "        vertical-align: middle;\n",
       "    }\n",
       "\n",
       "    .dataframe tbody tr th {\n",
       "        vertical-align: top;\n",
       "    }\n",
       "\n",
       "    .dataframe thead th {\n",
       "        text-align: right;\n",
       "    }\n",
       "</style>\n",
       "<table border=\"1\" class=\"dataframe\">\n",
       "  <thead>\n",
       "    <tr style=\"text-align: right;\">\n",
       "      <th></th>\n",
       "      <th>movieId</th>\n",
       "      <th>title</th>\n",
       "      <th>genres</th>\n",
       "    </tr>\n",
       "  </thead>\n",
       "  <tbody>\n",
       "    <tr>\n",
       "      <th>27273</th>\n",
       "      <td>131254</td>\n",
       "      <td>Kein Bund für's Leben (2007)</td>\n",
       "      <td>Comedy</td>\n",
       "    </tr>\n",
       "    <tr>\n",
       "      <th>27274</th>\n",
       "      <td>131256</td>\n",
       "      <td>Feuer, Eis &amp; Dosenbier (2002)</td>\n",
       "      <td>Comedy</td>\n",
       "    </tr>\n",
       "    <tr>\n",
       "      <th>27275</th>\n",
       "      <td>131258</td>\n",
       "      <td>The Pirates (2014)</td>\n",
       "      <td>Adventure</td>\n",
       "    </tr>\n",
       "    <tr>\n",
       "      <th>27276</th>\n",
       "      <td>131260</td>\n",
       "      <td>Rentun Ruusu (2001)</td>\n",
       "      <td></td>\n",
       "    </tr>\n",
       "    <tr>\n",
       "      <th>27277</th>\n",
       "      <td>131262</td>\n",
       "      <td>Innocence (2014)</td>\n",
       "      <td>Adventure|Fantasy|Horror</td>\n",
       "    </tr>\n",
       "  </tbody>\n",
       "</table>\n",
       "</div>"
      ],
      "text/plain": [
       "       movieId                          title                    genres\n",
       "27273   131254   Kein Bund für's Leben (2007)                    Comedy\n",
       "27274   131256  Feuer, Eis & Dosenbier (2002)                    Comedy\n",
       "27275   131258             The Pirates (2014)                 Adventure\n",
       "27276   131260            Rentun Ruusu (2001)                          \n",
       "27277   131262               Innocence (2014)  Adventure|Fantasy|Horror"
      ]
     },
     "execution_count": 4,
     "metadata": {},
     "output_type": "execute_result"
    }
   ],
   "source": [
    "# We use the Pandas built-in function loc to set the values of the column genres that match the search to empty string\n",
    "dataset_movies.loc[dataset_movies[\"genres\"] == \"(no genres listed)\", \"genres\"] = \"\"\n",
    "dataset_movies.tail()"
   ]
  },
  {
   "cell_type": "markdown",
   "metadata": {},
   "source": [
    "> For our purposes, it's also useful to load the content of the *Rating* dataset, which will help us to solve the following exercises."
   ]
  },
  {
   "cell_type": "code",
   "execution_count": 5,
   "metadata": {},
   "outputs": [
    {
     "data": {
      "text/html": [
       "<div>\n",
       "<style scoped>\n",
       "    .dataframe tbody tr th:only-of-type {\n",
       "        vertical-align: middle;\n",
       "    }\n",
       "\n",
       "    .dataframe tbody tr th {\n",
       "        vertical-align: top;\n",
       "    }\n",
       "\n",
       "    .dataframe thead th {\n",
       "        text-align: right;\n",
       "    }\n",
       "</style>\n",
       "<table border=\"1\" class=\"dataframe\">\n",
       "  <thead>\n",
       "    <tr style=\"text-align: right;\">\n",
       "      <th></th>\n",
       "      <th>userId</th>\n",
       "      <th>movieId</th>\n",
       "      <th>rating</th>\n",
       "      <th>timestamp</th>\n",
       "    </tr>\n",
       "  </thead>\n",
       "  <tbody>\n",
       "    <tr>\n",
       "      <th>0</th>\n",
       "      <td>1</td>\n",
       "      <td>2</td>\n",
       "      <td>3.5</td>\n",
       "      <td>2005-04-02 23:53:47</td>\n",
       "    </tr>\n",
       "    <tr>\n",
       "      <th>1</th>\n",
       "      <td>1</td>\n",
       "      <td>29</td>\n",
       "      <td>3.5</td>\n",
       "      <td>2005-04-02 23:31:16</td>\n",
       "    </tr>\n",
       "    <tr>\n",
       "      <th>2</th>\n",
       "      <td>1</td>\n",
       "      <td>32</td>\n",
       "      <td>3.5</td>\n",
       "      <td>2005-04-02 23:33:39</td>\n",
       "    </tr>\n",
       "    <tr>\n",
       "      <th>3</th>\n",
       "      <td>1</td>\n",
       "      <td>47</td>\n",
       "      <td>3.5</td>\n",
       "      <td>2005-04-02 23:32:07</td>\n",
       "    </tr>\n",
       "    <tr>\n",
       "      <th>4</th>\n",
       "      <td>1</td>\n",
       "      <td>50</td>\n",
       "      <td>3.5</td>\n",
       "      <td>2005-04-02 23:29:40</td>\n",
       "    </tr>\n",
       "  </tbody>\n",
       "</table>\n",
       "</div>"
      ],
      "text/plain": [
       "   userId  movieId  rating            timestamp\n",
       "0       1        2     3.5  2005-04-02 23:53:47\n",
       "1       1       29     3.5  2005-04-02 23:31:16\n",
       "2       1       32     3.5  2005-04-02 23:33:39\n",
       "3       1       47     3.5  2005-04-02 23:32:07\n",
       "4       1       50     3.5  2005-04-02 23:29:40"
      ]
     },
     "execution_count": 5,
     "metadata": {},
     "output_type": "execute_result"
    }
   ],
   "source": [
    "# We open and load in a new Dataframe the content of the CSV file.\n",
    "rating_dir = '../rating.csv'\n",
    "dataset_ratings = pd.read_csv(rating_dir)\n",
    "dataset_ratings.head()"
   ]
  },
  {
   "cell_type": "markdown",
   "metadata": {},
   "source": [
    "We merge the two datasets in order to compute a uniform analysis using the Pandas function `merge()`.\n",
    "We know that each `movieId` from the *ratings* dataset corresponds to one and only `movieId` value from the *movies* dataset which is a *primary_key*.\n",
    "\n",
    "- You can notice that we dont specify a Merge type (left, right, ...) because we wanna mantain only the rated movies for our recommender system."
   ]
  },
  {
   "cell_type": "code",
   "execution_count": 6,
   "metadata": {},
   "outputs": [
    {
     "data": {
      "text/html": [
       "<div>\n",
       "<style scoped>\n",
       "    .dataframe tbody tr th:only-of-type {\n",
       "        vertical-align: middle;\n",
       "    }\n",
       "\n",
       "    .dataframe tbody tr th {\n",
       "        vertical-align: top;\n",
       "    }\n",
       "\n",
       "    .dataframe thead th {\n",
       "        text-align: right;\n",
       "    }\n",
       "</style>\n",
       "<table border=\"1\" class=\"dataframe\">\n",
       "  <thead>\n",
       "    <tr style=\"text-align: right;\">\n",
       "      <th></th>\n",
       "      <th>userId</th>\n",
       "      <th>movieId</th>\n",
       "      <th>rating</th>\n",
       "      <th>timestamp</th>\n",
       "      <th>title</th>\n",
       "      <th>genres</th>\n",
       "    </tr>\n",
       "  </thead>\n",
       "  <tbody>\n",
       "    <tr>\n",
       "      <th>0</th>\n",
       "      <td>1</td>\n",
       "      <td>2</td>\n",
       "      <td>3.5</td>\n",
       "      <td>2005-04-02 23:53:47</td>\n",
       "      <td>Jumanji (1995)</td>\n",
       "      <td>Adventure|Children|Fantasy</td>\n",
       "    </tr>\n",
       "    <tr>\n",
       "      <th>1</th>\n",
       "      <td>1</td>\n",
       "      <td>29</td>\n",
       "      <td>3.5</td>\n",
       "      <td>2005-04-02 23:31:16</td>\n",
       "      <td>City of Lost Children, The (Cité des enfants p...</td>\n",
       "      <td>Adventure|Drama|Fantasy|Mystery|Sci-Fi</td>\n",
       "    </tr>\n",
       "    <tr>\n",
       "      <th>2</th>\n",
       "      <td>1</td>\n",
       "      <td>32</td>\n",
       "      <td>3.5</td>\n",
       "      <td>2005-04-02 23:33:39</td>\n",
       "      <td>Twelve Monkeys (a.k.a. 12 Monkeys) (1995)</td>\n",
       "      <td>Mystery|Sci-Fi|Thriller</td>\n",
       "    </tr>\n",
       "    <tr>\n",
       "      <th>3</th>\n",
       "      <td>1</td>\n",
       "      <td>47</td>\n",
       "      <td>3.5</td>\n",
       "      <td>2005-04-02 23:32:07</td>\n",
       "      <td>Seven (a.k.a. Se7en) (1995)</td>\n",
       "      <td>Mystery|Thriller</td>\n",
       "    </tr>\n",
       "    <tr>\n",
       "      <th>4</th>\n",
       "      <td>1</td>\n",
       "      <td>50</td>\n",
       "      <td>3.5</td>\n",
       "      <td>2005-04-02 23:29:40</td>\n",
       "      <td>Usual Suspects, The (1995)</td>\n",
       "      <td>Crime|Mystery|Thriller</td>\n",
       "    </tr>\n",
       "  </tbody>\n",
       "</table>\n",
       "</div>"
      ],
      "text/plain": [
       "   userId  movieId  rating            timestamp  \\\n",
       "0       1        2     3.5  2005-04-02 23:53:47   \n",
       "1       1       29     3.5  2005-04-02 23:31:16   \n",
       "2       1       32     3.5  2005-04-02 23:33:39   \n",
       "3       1       47     3.5  2005-04-02 23:32:07   \n",
       "4       1       50     3.5  2005-04-02 23:29:40   \n",
       "\n",
       "                                               title  \\\n",
       "0                                     Jumanji (1995)   \n",
       "1  City of Lost Children, The (Cité des enfants p...   \n",
       "2          Twelve Monkeys (a.k.a. 12 Monkeys) (1995)   \n",
       "3                        Seven (a.k.a. Se7en) (1995)   \n",
       "4                         Usual Suspects, The (1995)   \n",
       "\n",
       "                                   genres  \n",
       "0              Adventure|Children|Fantasy  \n",
       "1  Adventure|Drama|Fantasy|Mystery|Sci-Fi  \n",
       "2                 Mystery|Sci-Fi|Thriller  \n",
       "3                        Mystery|Thriller  \n",
       "4                  Crime|Mystery|Thriller  "
      ]
     },
     "execution_count": 6,
     "metadata": {},
     "output_type": "execute_result"
    }
   ],
   "source": [
    "dataset_movies_ratings = pd.merge(dataset_movies, dataset_ratings, on = \"movieId\")\n",
    "dataset_movies_ratings.head()"
   ]
  },
  {
   "cell_type": "markdown",
   "metadata": {},
   "source": [
    "Before going deep with the exercise, we conduct the **Exploratory Data Analysis** to deepen the understanding of the two databases"
   ]
  },
  {
   "cell_type": "markdown",
   "metadata": {},
   "source": [
    "> We print the shape of the DataFrame "
   ]
  },
  {
   "cell_type": "code",
   "execution_count": 7,
   "metadata": {},
   "outputs": [
    {
     "name": "stdout",
     "output_type": "stream",
     "text": [
      "(20000263, 6)\n"
     ]
    }
   ],
   "source": [
    "dataset_movies_ratings.shape"
   ]
  },
  {
   "cell_type": "markdown",
   "metadata": {},
   "source": [
    "The Shape of the merged DataFrame  mantains the number of rows of the longest between the two DataFrames."
   ]
  },
  {
   "cell_type": "markdown",
   "metadata": {},
   "source": [
    "> We print the column's names"
   ]
  },
  {
   "cell_type": "code",
   "execution_count": 8,
   "metadata": {},
   "outputs": [
    {
     "data": {
      "text/plain": [
       "['userId', 'movieId', 'rating', 'timestamp', 'title', 'genres']"
      ]
     },
     "execution_count": 8,
     "metadata": {},
     "output_type": "execute_result"
    }
   ],
   "source": [
    "list(dataset_movies_ratings.columns)"
   ]
  },
  {
   "cell_type": "markdown",
   "metadata": {},
   "source": [
    "> We check the Data Types of each column"
   ]
  },
  {
   "cell_type": "code",
   "execution_count": 9,
   "metadata": {},
   "outputs": [
    {
     "data": {
      "text/plain": [
       "userId         int64\n",
       "movieId        int64\n",
       "rating       float64\n",
       "timestamp     object\n",
       "title         object\n",
       "genres        object\n",
       "dtype: object"
      ]
     },
     "execution_count": 9,
     "metadata": {},
     "output_type": "execute_result"
    }
   ],
   "source": [
    "dataset_movies_ratings.dtypes"
   ]
  },
  {
   "cell_type": "markdown",
   "metadata": {},
   "source": [
    "> Seen that the column timestamp is detected as *Object*, we convert it to *timestamp*"
   ]
  },
  {
   "cell_type": "code",
   "execution_count": 10,
   "metadata": {},
   "outputs": [
    {
     "data": {
      "text/plain": [
       "userId                int64\n",
       "movieId               int64\n",
       "rating              float64\n",
       "timestamp    datetime64[ns]\n",
       "title                object\n",
       "genres               object\n",
       "dtype: object"
      ]
     },
     "execution_count": 10,
     "metadata": {},
     "output_type": "execute_result"
    }
   ],
   "source": [
    "dataset_movies_ratings['timestamp'] = pd.to_datetime(dataset_movies_ratings['timestamp'])\n",
    "dataset_movies_ratings.dtypes"
   ]
  },
  {
   "cell_type": "markdown",
   "metadata": {},
   "source": [
    "> We check if there are Nan values in the columns"
   ]
  },
  {
   "cell_type": "code",
   "execution_count": 11,
   "metadata": {},
   "outputs": [
    {
     "data": {
      "text/plain": [
       "[]"
      ]
     },
     "execution_count": 11,
     "metadata": {},
     "output_type": "execute_result"
    }
   ],
   "source": [
    "# We filter the columns only for the columns that have at least 1 null value\n",
    "list(dataset_movies_ratings.columns[dataset_movies_ratings.isnull().sum() > 0])"
   ]
  },
  {
   "cell_type": "markdown",
   "metadata": {},
   "source": [
    "> We check if there are any duplicates through the function `duplicated()` that returns *True* or *False* if the row is duplicated. Filtering by row, we obtain a DataFrame containing all the duplicated rows"
   ]
  },
  {
   "cell_type": "code",
   "execution_count": 12,
   "metadata": {},
   "outputs": [
    {
     "data": {
      "text/html": [
       "<div>\n",
       "<style scoped>\n",
       "    .dataframe tbody tr th:only-of-type {\n",
       "        vertical-align: middle;\n",
       "    }\n",
       "\n",
       "    .dataframe tbody tr th {\n",
       "        vertical-align: top;\n",
       "    }\n",
       "\n",
       "    .dataframe thead th {\n",
       "        text-align: right;\n",
       "    }\n",
       "</style>\n",
       "<table border=\"1\" class=\"dataframe\">\n",
       "  <thead>\n",
       "    <tr style=\"text-align: right;\">\n",
       "      <th></th>\n",
       "      <th>userId</th>\n",
       "      <th>movieId</th>\n",
       "      <th>rating</th>\n",
       "      <th>timestamp</th>\n",
       "      <th>title</th>\n",
       "      <th>genres</th>\n",
       "    </tr>\n",
       "  </thead>\n",
       "  <tbody>\n",
       "  </tbody>\n",
       "</table>\n",
       "</div>"
      ],
      "text/plain": [
       "Empty DataFrame\n",
       "Columns: [userId, movieId, rating, timestamp, title, genres]\n",
       "Index: []"
      ]
     },
     "execution_count": 12,
     "metadata": {},
     "output_type": "execute_result"
    }
   ],
   "source": [
    "# List of Rows Duplicated\n",
    "dataset_movies_ratings[dataset_movies_ratings.duplicated()]"
   ]
  },
  {
   "cell_type": "markdown",
   "metadata": {},
   "source": [
    "There are no duplicates in the DataFrame."
   ]
  },
  {
   "cell_type": "markdown",
   "metadata": {},
   "source": [
    "> What's the number of the users who have rated a movie?"
   ]
  },
  {
   "cell_type": "code",
   "execution_count": 20,
   "metadata": {},
   "outputs": [
    {
     "data": {
      "text/plain": [
       "138493"
      ]
     },
     "execution_count": 20,
     "metadata": {},
     "output_type": "execute_result"
    }
   ],
   "source": [
    "dataset_movies_ratings[\"userId\"].nunique()"
   ]
  },
  {
   "cell_type": "markdown",
   "metadata": {},
   "source": [
    "#### **Tabular Summary**\n",
    "\n",
    "We calculate statistics like mean, median, minimum through the Pandas function `describe()` and explore how data is distributed."
   ]
  },
  {
   "cell_type": "code",
   "execution_count": 13,
   "metadata": {},
   "outputs": [
    {
     "data": {
      "text/html": [
       "<div>\n",
       "<style scoped>\n",
       "    .dataframe tbody tr th:only-of-type {\n",
       "        vertical-align: middle;\n",
       "    }\n",
       "\n",
       "    .dataframe tbody tr th {\n",
       "        vertical-align: top;\n",
       "    }\n",
       "\n",
       "    .dataframe thead th {\n",
       "        text-align: right;\n",
       "    }\n",
       "</style>\n",
       "<table border=\"1\" class=\"dataframe\">\n",
       "  <thead>\n",
       "    <tr style=\"text-align: right;\">\n",
       "      <th></th>\n",
       "      <th>userId</th>\n",
       "      <th>movieId</th>\n",
       "      <th>rating</th>\n",
       "      <th>timestamp</th>\n",
       "    </tr>\n",
       "  </thead>\n",
       "  <tbody>\n",
       "    <tr>\n",
       "      <th>count</th>\n",
       "      <td>2.000026e+07</td>\n",
       "      <td>2.000026e+07</td>\n",
       "      <td>2.000026e+07</td>\n",
       "      <td>20000263</td>\n",
       "    </tr>\n",
       "    <tr>\n",
       "      <th>mean</th>\n",
       "      <td>6.904587e+04</td>\n",
       "      <td>9.041567e+03</td>\n",
       "      <td>3.525529e+00</td>\n",
       "      <td>2004-11-20 02:32:01.677113984</td>\n",
       "    </tr>\n",
       "    <tr>\n",
       "      <th>min</th>\n",
       "      <td>1.000000e+00</td>\n",
       "      <td>1.000000e+00</td>\n",
       "      <td>5.000000e-01</td>\n",
       "      <td>1995-01-09 11:46:44</td>\n",
       "    </tr>\n",
       "    <tr>\n",
       "      <th>25%</th>\n",
       "      <td>3.439500e+04</td>\n",
       "      <td>9.020000e+02</td>\n",
       "      <td>3.000000e+00</td>\n",
       "      <td>2000-08-20 18:55:45</td>\n",
       "    </tr>\n",
       "    <tr>\n",
       "      <th>50%</th>\n",
       "      <td>6.914100e+04</td>\n",
       "      <td>2.167000e+03</td>\n",
       "      <td>3.500000e+00</td>\n",
       "      <td>2004-12-20 15:18:06</td>\n",
       "    </tr>\n",
       "    <tr>\n",
       "      <th>75%</th>\n",
       "      <td>1.036370e+05</td>\n",
       "      <td>4.770000e+03</td>\n",
       "      <td>4.000000e+00</td>\n",
       "      <td>2008-11-02 16:11:57.500000</td>\n",
       "    </tr>\n",
       "    <tr>\n",
       "      <th>max</th>\n",
       "      <td>1.384930e+05</td>\n",
       "      <td>1.312620e+05</td>\n",
       "      <td>5.000000e+00</td>\n",
       "      <td>2015-03-31 06:40:02</td>\n",
       "    </tr>\n",
       "    <tr>\n",
       "      <th>std</th>\n",
       "      <td>4.003863e+04</td>\n",
       "      <td>1.978948e+04</td>\n",
       "      <td>1.051989e+00</td>\n",
       "      <td>NaN</td>\n",
       "    </tr>\n",
       "  </tbody>\n",
       "</table>\n",
       "</div>"
      ],
      "text/plain": [
       "             userId       movieId        rating                      timestamp\n",
       "count  2.000026e+07  2.000026e+07  2.000026e+07                       20000263\n",
       "mean   6.904587e+04  9.041567e+03  3.525529e+00  2004-11-20 02:32:01.677113984\n",
       "min    1.000000e+00  1.000000e+00  5.000000e-01            1995-01-09 11:46:44\n",
       "25%    3.439500e+04  9.020000e+02  3.000000e+00            2000-08-20 18:55:45\n",
       "50%    6.914100e+04  2.167000e+03  3.500000e+00            2004-12-20 15:18:06\n",
       "75%    1.036370e+05  4.770000e+03  4.000000e+00     2008-11-02 16:11:57.500000\n",
       "max    1.384930e+05  1.312620e+05  5.000000e+00            2015-03-31 06:40:02\n",
       "std    4.003863e+04  1.978948e+04  1.051989e+00                            NaN"
      ]
     },
     "execution_count": 13,
     "metadata": {},
     "output_type": "execute_result"
    }
   ],
   "source": [
    "dataset_movies_ratings.describe()"
   ]
  },
  {
   "cell_type": "markdown",
   "metadata": {},
   "source": [
    "We can notice that only the Numeric columns are integrated in the summary. The tabular summary of the dataset is pretty useless, because the column `movieId` is a *primary_key* and it's a categorical-like identifier. The column *rating* is the only numeric column where these statistics are actually valuable:\n",
    "\n",
    "- `mean`: The average rating is 3.53, indicating that users generally rate movies slightly above the midpoint of the 0.5 to 5 rating scale.\n",
    "\n",
    "- `std`: A standard deviation of 1.05 suggests moderate variability in the ratings.\n",
    "\n",
    "- `Percentiles`:\n",
    "    - The median (50%) is 3.5, aligning with the mean.\n",
    "    - 75% of ratings are below 4, suggesting fewer very high ratings."
   ]
  },
  {
   "cell_type": "markdown",
   "metadata": {},
   "source": [
    "#### **Visualization**\n",
    "\n",
    "The last step of Exploring the Dataset is to visualize the data.\n"
   ]
  },
  {
   "cell_type": "markdown",
   "metadata": {},
   "source": [
    "To  visualize the distribution of movie ratings across all users we use a *box plot*. \n",
    "A box plot provides a summary of a set of data values through their quartiles, and it can help visualize the spread of the ratings and identify any potential outliers."
   ]
  },
  {
   "cell_type": "code",
   "execution_count": 19,
   "metadata": {},
   "outputs": [
    {
     "name": "stderr",
     "output_type": "stream",
     "text": [
      "C:\\Users\\Marco\\AppData\\Local\\Temp\\ipykernel_29436\\3347478301.py:1: FutureWarning: \n",
      "\n",
      "Passing `palette` without assigning `hue` is deprecated and will be removed in v0.14.0. Assign the `y` variable to `hue` and set `legend=False` for the same effect.\n",
      "\n",
      "  sns.boxplot(x='rating', data=dataset_movies_ratings, color='lightgreen', palette='crest')\n"
     ]
    },
    {
     "data": {
      "image/png": "[encoded data removed]",
      "text/plain": [
       "<Figure size 640x480 with 1 Axes>"
      ]
     },
     "metadata": {},
     "output_type": "display_data"
    }
   ],
   "source": [
    "sns.boxplot(x='rating', data=dataset_movies_ratings, color='lightgreen', palette='crest')\n",
    "plt.title('Distribution of Ratings Across All Users')\n",
    "plt.xlabel('Rating')\n",
    "plt.ylabel('Frequency')\n",
    "plt.show();"
   ]
  },
  {
   "cell_type": "markdown",
   "metadata": {},
   "source": [
    "> We can notice by the boxplot that the majority of the user have rated movies between 3 and 4, confirming the previous results given by the tabular summary that computed a mean of 3.5. We also mention the presence of some outliers\n",
    "___"
   ]
  },
  {
   "cell_type": "markdown",
   "metadata": {},
   "source": [
    "The following *plot* outputs the number of rating over time per each month in every date we find in the dataset. We use the `resample(\"M\", on = \"timestamp\")` to group data by month using the `timestamp` column and counting all the ratings done in the same month."
   ]
  },
  {
   "cell_type": "code",
   "execution_count": 22,
   "metadata": {},
   "outputs": [
    {
     "name": "stderr",
     "output_type": "stream",
     "text": [
      "C:\\Users\\Marco\\AppData\\Local\\Temp\\ipykernel_29436\\217991108.py:2: FutureWarning: 'M' is deprecated and will be removed in a future version, please use 'ME' instead.\n",
      "  rating_counts = dataset_movies_ratings.resample('M', on='timestamp').size()\n"
     ]
    },
    {
     "data": {
      "image/png": "[encoded data removed]",
      "text/plain": [
       "<Figure size 1200x600 with 1 Axes>"
      ]
     },
     "metadata": {},
     "output_type": "display_data"
    }
   ],
   "source": [
    "# Resample data by Month and count the number of ratings\n",
    "rating_counts = dataset_movies_ratings.resample('M', on='timestamp').size()\n",
    "\n",
    "# Plot time series of rating activity\n",
    "plt.figure(figsize=(12, 6))\n",
    "rating_counts.plot()\n",
    "plt.title('Rating Activity Over Time Every Month')\n",
    "plt.xlabel('Date')\n",
    "plt.ylabel('Number of Ratings')\n",
    "plt.show()\n"
   ]
  },
  {
   "cell_type": "markdown",
   "metadata": {},
   "source": [
    "> We see that in the year 2000, we had the most ratings in the dataset, reaching over *400 000* ratings submitted. We have to mention a slow descrease of the ratings aftert the 2005 peaks.\n",
    "___"
   ]
  },
  {
   "cell_type": "markdown",
   "metadata": {},
   "source": [
    "In the end, we create an heatmap of the ratings taking into account 20 random users and 20 random movies (for computational issues) through the function `sample()`. We analyse with an *heatmap* the value of the rating done by the user to the movie and we assign a color based on the rating's value."
   ]
  },
  {
   "cell_type": "code",
   "execution_count": 29,
   "metadata": {},
   "outputs": [
    {
     "data": {
      "image/png": "[encoded data removed]",
      "text/plain": [
       "<Figure size 1000x800 with 2 Axes>"
      ]
     },
     "metadata": {},
     "output_type": "display_data"
    }
   ],
   "source": [
    "# Sample 1000 random users and 20 random movies\n",
    "sampled_users = dataset_movies_ratings['userId'].sample(20).unique()\n",
    "sampled_movies = dataset_movies_ratings['title'].sample(20).unique()\n",
    "\n",
    "# Create the user-item rating matrix (with NaN for missing ratings)\n",
    "rating_matrix = dataset_movies_ratings[dataset_movies_ratings['userId'].isin(sampled_users) &\n",
    "                                        dataset_movies_ratings['title'].isin(sampled_movies)]\n",
    "rating_matrix = rating_matrix.pivot(index='userId', columns='title', values='rating')\n",
    "\n",
    "# Plot heatmap\n",
    "plt.figure(figsize=(10, 8))\n",
    "sns.heatmap(rating_matrix, cmap=\"YlGnBu\", fmt='.1f', cbar_kws={'label': 'Rating'})\n",
    "plt.title('Heatmap of Ratings (Sampled Users and Movies)')\n",
    "plt.show()\n"
   ]
  },
  {
   "cell_type": "markdown",
   "metadata": {},
   "source": [
    "> We notice that darker the colors are for that *movie* (column), and better ratings thay will have from each user (row) \n",
    "\n",
    "___"
   ]
  },
  {
   "cell_type": "markdown",
   "metadata": {},
   "source": [
    "### **1.2 Minhash Signatures**\n",
    "\n",
    "Using the `userId` and `movieId` columns, implement your own **MinHash function**. This function will hash each user's watched movie list, creating a representation that allows for quick comparisons of user similarities."
   ]
  },
  {
   "cell_type": "code",
   "execution_count": 49,
   "metadata": {},
   "outputs": [
    {
     "data": {
      "text/plain": [
       "<module 'functions' from 'c:\\\\Users\\\\Marco\\\\Desktop\\\\Magistrale\\\\ADM\\\\ADM-HW4\\\\ADM-HW4\\\\functions.py'>"
      ]
     },
     "execution_count": 49,
     "metadata": {},
     "output_type": "execute_result"
    }
   ],
   "source": [
    "import importlib\n",
    "importlib.reload(functions)"
   ]
  },
  {
   "cell_type": "markdown",
   "metadata": {},
   "source": [
    "- Before applying the `LSH` algorithm, we have to create the *signature matrix*, which provides a structured way to represent user-item interactions, serving as the foundation for various collaborative filtering and matrix factorization techniques. In our case, we will have matrix where each row represent the unique *movies* and each columns the unique *users*.\n",
    "\n",
    "- Firstly, we create another Matrix we call **characteristic_matrix**, that will have a cell set to 1 if the user has rated the movie, 0 otherwise."
   ]
  },
  {
   "cell_type": "markdown",
   "metadata": {},
   "source": [
    "**Function** `createBinaryMatrix`:\n",
    "\n",
    "- Extract unique users and movies:\n",
    "\n",
    "    - Identify all unique `userIds` and `movieIds` from the dataset.\n",
    "    - These represent the rows (movies) and columns (users) of the binary matrix.\n",
    "\n",
    "- Create mappings:\n",
    "    - Map each userId and movieId to a corresponding index using Python dictionaries.\n",
    "    - This ensures quick lookup and index assignment.\n",
    "\n",
    "- Initialize the binary matrix:\n",
    "\n",
    "    - Construct a 2D numpy array with dimensions [`number of movies`] x [`number of users`].\n",
    "    - All entries are initialized to 0.\n",
    "\n",
    "- Populate the matrix:\n",
    "\n",
    "    - Iterate through each row in the DataFrame.\n",
    "    - For each (`userId`, `movieId`) pair, set the corresponding matrix cell to 1, indicating interaction.\n",
    "\n",
    "- Return the matrix:\n",
    "\n",
    "    - Provide the binary matrix as output, ready for use in recommendation algorithms."
   ]
  },
  {
   "cell_type": "code",
   "execution_count": 11,
   "metadata": {},
   "outputs": [],
   "source": [
    "characteristic_matrix = functions.createBinaryMatrix(dataset_movies_ratings)"
   ]
  },
  {
   "cell_type": "markdown",
   "metadata": {},
   "source": [
    "Now that we have the `characteristic_matrix`, we can compute the MinHash `signature_matrix` through our custom *MinHashFunction*.\n",
    "\n",
    "- The goal of the **MinHash** is to replace a large set with a smaller \"signature\" that still preserves the underlying similarity metric."
   ]
  },
  {
   "cell_type": "markdown",
   "metadata": {},
   "source": [
    "**Function** `MinHashFunction`:\n",
    "\n",
    "\n",
    "- Initialize Parameters:\n",
    "\n",
    "    - `num_movies`: Number of rows in the characteristic matrix.\n",
    "    - `num_users`: Number of columns in the characteristic matrix.\n",
    "    - `k`: Total number of rows (used as a prime modulus in hash functions).\n",
    "    - `num_groups`: Number of row groups, determined by m (rows per group).\n",
    "\n",
    "- Signature Matrix Initialization:\n",
    "\n",
    "    - Initialize a signature matrix of size [num_hashes * num_groups, num_users].\n",
    "    - Set all entries to infinity (np.inf) to later find the minimum hash values.\n",
    "\n",
    "- Create Random Hash Functions:\n",
    "\n",
    "    - Generate num_hashes hash functions using the formula $h(x)=(a⋅x+b)%p$, where:\n",
    "        - `a` and `b` are random coefficients.\n",
    "        - `p` is the number of rows (`k`).\n",
    "\n",
    "- Group-Wise Processing:\n",
    "\n",
    "    - Process rows in groups of size `m` to reduce memory overhead, hence we wanna optimize the MinHash Function.\n",
    "\n",
    "    - For each group:\n",
    "        - Extract the relevant rows from the characteristic matrix.\n",
    "\n",
    "- Compute Row Hashes:\n",
    "\n",
    "    - For each hash function:\n",
    "        - Compute hash values for rows in the current group.\n",
    "        - For each user:\n",
    "            - Check if the user has interacted with any item in the group (if the column has a 1).\n",
    "            - Find the minimum hash value among the active rows (`row_hashes` for rows with 1 in the user column).\n",
    "            - Update the corresponding signature matrix entry with the minimum value.\n",
    "\n",
    "- Return Signature Matrix:\n",
    "    - The final signature matrix is smaller than the original characteristic matrix and encodes similarity.\n"
   ]
  },
  {
   "cell_type": "code",
   "execution_count": 21,
   "metadata": {},
   "outputs": [],
   "source": [
    "signature_matrix = functions.MinHashFunction(num_hashes = 2, characteristic_matrix = characteristic_matrix, m = 10)"
   ]
  },
  {
   "cell_type": "markdown",
   "metadata": {},
   "source": [
    "> Notice that we have chosen $m = 10$ and $num\\_ashes = 2$ during the function call"
   ]
  },
  {
   "cell_type": "markdown",
   "metadata": {},
   "source": [
    "___\n",
    "- Experiment with different hash functions and threshold values to find the most effective configurations. Report these results.\n"
   ]
  },
  {
   "cell_type": "code",
   "execution_count": null,
   "metadata": {},
   "outputs": [],
   "source": []
  },
  {
   "cell_type": "markdown",
   "metadata": {},
   "source": [
    "### **1.3 Locality-Sensitive Hashing (LSH)**\n",
    "Now that you have generated MinHash user signatures, apply Locality-Sensitive Hashing (LSH) to cluster similar users.\n",
    "\n",
    "1. **Bucket Creation**: For each user, divide the MinHash signature into bands and hash each band to form buckets. Users with similar bands should fall into the same buckets.\n",
    "    - **Debugging Tip**: After creating buckets, check a few bucket contents to verify that multiple users are being grouped in the same buckets.\n"
   ]
  },
  {
   "cell_type": "markdown",
   "metadata": {},
   "source": [
    "> Since we have built our **MinHash Signature Matrix**, we can apply the *LSH* algorithm in order to classify each user to a bucket so that users that have rated common movies belong to similar buckets."
   ]
  },
  {
   "cell_type": "markdown",
   "metadata": {},
   "source": [
    "**Function** `lsh_user_movies`:\n",
    "\n",
    "- Calculate Rows per Band:\n",
    "\n",
    "    - The number of rows in each band is calculated by dividing the total number of rows of the signature_matrix (num_hashes * num_movies) by the number of bands (num_bands).\n",
    "\n",
    "- Loop Over Bands:\n",
    "\n",
    "    - For each band we identify `start_row` and `end_row` of the signature_matrix belonging to the current band\n",
    "\n",
    "- Process Each User:\n",
    "    - For each user we compute *Band Signature*:\n",
    "        - A tuple called `band_signature` is created from the user's hash values in this band\n",
    "\n",
    "- Hash into Buckets:\n",
    "    - Users with the same band_signature are grouped into the same bucket."
   ]
  },
  {
   "cell_type": "code",
   "execution_count": 28,
   "metadata": {},
   "outputs": [],
   "source": [
    "buckets = functions.lsh_user_movies(signature_matrix, num_bands = 3)"
   ]
  },
  {
   "cell_type": "markdown",
   "metadata": {},
   "source": [
    "> `buckets` will contain a dictionary key, value where the key are represented by tuples of hashes of the signature_matrix and their size will be `rows_per_band`, while the value will be the list of userId indexes that belong to that band. "
   ]
  },
  {
   "cell_type": "markdown",
   "metadata": {},
   "source": [
    "2. **Query**: For a given user, identify the **two most similar** users based on their bucket placement. If a user doesn’t have any similar users in their bucket, adjust the parameters until similar users are found.\n",
    "\n",
    "\n"
   ]
  },
  {
   "cell_type": "markdown",
   "metadata": {},
   "source": [
    "> Now that we have the *buckets* dictionary, retrieving similar users becomes very simple, because they will be in the same bucket of the input user."
   ]
  },
  {
   "cell_type": "markdown",
   "metadata": {},
   "source": [
    "**Function** `query_similar_users`:\n",
    "\n",
    "- We search the most similar users in the same bucket of the `user_index`, defining a Set and discarding the user_index\n",
    "\n",
    "- Then we compute the **Jaccard Similarity** between the columns of the *signature matrix*, representing the hash_values for each *similar_userId* and we sort the users based on the similarity.\n",
    "\n",
    "- We return a list of candidate users index\n"
   ]
  },
  {
   "cell_type": "code",
   "execution_count": 29,
   "metadata": {},
   "outputs": [],
   "source": [
    "user_index = 1\n",
    "similar_users = functions.query_similar_users(user_index, buckets, signature_matrix)"
   ]
  },
  {
   "cell_type": "markdown",
   "metadata": {},
   "source": [
    "3. **Movie Recommendation Logic**:\n",
    "\n",
    "    - If both similar users have rated a movie, recommend this movie based on the **average rating**.\n",
    "    \n",
    "    - If there are no commonly rated movies, recommend the top-rated movies of the most similar user.\n",
    "    \n",
    "4. **Final Recommendation**: Provide at most five movies to the user."
   ]
  },
  {
   "cell_type": "markdown",
   "metadata": {},
   "source": [
    "> To compute the recommended movies, we will recommend firstly the common movies by the similar users based on aveage rating and then the top-rated ones."
   ]
  },
  {
   "cell_type": "markdown",
   "metadata": {},
   "source": [
    "**Function** `recommend_movies`\n",
    "\n",
    "- Firstly, we add to the list of recommended movies the common movies rated by the similar users that have that highest average ratings.\n",
    "\n",
    "- If the length of the lsit of recommended movies is not enough (less than *max_recommendation*), we select the highest rated movies by similar users\n",
    "\n",
    "- We select the most similar user (remember the the list `similar_users` was sorted on similarity)\n",
    "\n",
    "- We select all the movies rated by this user, sorting them by rating, and add them to the list_of_recommended_movies until its length is equal to *max_recommendation*"
   ]
  },
  {
   "cell_type": "code",
   "execution_count": 50,
   "metadata": {},
   "outputs": [
    {
     "data": {
      "text/html": [
       "<div>\n",
       "<style scoped>\n",
       "    .dataframe tbody tr th:only-of-type {\n",
       "        vertical-align: middle;\n",
       "    }\n",
       "\n",
       "    .dataframe tbody tr th {\n",
       "        vertical-align: top;\n",
       "    }\n",
       "\n",
       "    .dataframe thead th {\n",
       "        text-align: right;\n",
       "    }\n",
       "</style>\n",
       "<table border=\"1\" class=\"dataframe\">\n",
       "  <thead>\n",
       "    <tr style=\"text-align: right;\">\n",
       "      <th></th>\n",
       "      <th>Movies Reccomended</th>\n",
       "      <th>Rating</th>\n",
       "    </tr>\n",
       "  </thead>\n",
       "  <tbody>\n",
       "    <tr>\n",
       "      <th>0</th>\n",
       "      <td>Godfather, The (1972)</td>\n",
       "      <td>5.00</td>\n",
       "    </tr>\n",
       "    <tr>\n",
       "      <th>1</th>\n",
       "      <td>2001: A Space Odyssey (1968)</td>\n",
       "      <td>5.00</td>\n",
       "    </tr>\n",
       "    <tr>\n",
       "      <th>2</th>\n",
       "      <td>Godfather: Part II, The (1974)</td>\n",
       "      <td>5.00</td>\n",
       "    </tr>\n",
       "    <tr>\n",
       "      <th>3</th>\n",
       "      <td>Shawshank Redemption, The (1994)</td>\n",
       "      <td>4.75</td>\n",
       "    </tr>\n",
       "    <tr>\n",
       "      <th>4</th>\n",
       "      <td>Silence of the Lambs, The (1991)</td>\n",
       "      <td>4.75</td>\n",
       "    </tr>\n",
       "  </tbody>\n",
       "</table>\n",
       "</div>"
      ],
      "text/plain": [
       "                 Movies Reccomended  Rating\n",
       "0             Godfather, The (1972)    5.00\n",
       "1      2001: A Space Odyssey (1968)    5.00\n",
       "2    Godfather: Part II, The (1974)    5.00\n",
       "3  Shawshank Redemption, The (1994)    4.75\n",
       "4  Silence of the Lambs, The (1991)    4.75"
      ]
     },
     "execution_count": 50,
     "metadata": {},
     "output_type": "execute_result"
    }
   ],
   "source": [
    "user_movie_ratings = dataset_movies_ratings[[\"userId\",\"movieId\", \"title\", \"rating\"]]\n",
    "recommendations = functions.recommend_movies(similar_users, user_movie_ratings)\n",
    "recommendations"
   ]
  },
  {
   "cell_type": "markdown",
   "metadata": {},
   "source": [
    "## **2. Grouping Movies Together!**\n",
    "___\n",
    "In this section, you will explore clustering algorithms to group the movies you have based on specific features you choose to consider for them.\n"
   ]
  },
  {
   "cell_type": "markdown",
   "metadata": {},
   "source": [
    "### **2.1 Feature Engineering**\n",
    "\n",
    "As you know, the dataset provided isn’t particularly clean or well-structured to represent the features of the movies. Therefore, your first step is to create a more suitable set of attributes (variables, features, covariates) to represent the movies based on the available information. Here are some variables or features you might consider for clustering:\n",
    "\n",
    "1. `movieid` id of each movie\n",
    "2. `genres` list of genres attached to the movie (given that a movie may have several genres, it’s essential to devise a method to accurately represent the genres for each movie)\n",
    "3. `ratings_avg` the average ratings provided by users for the movie\n",
    "4. `relevant_genome_tag` the most relevant tag to the movie given in the genome set\n",
    "5. `common_user_tag` the most common tag given to the movie by the users\n",
    "\n",
    "In addition to the above features, include **at least three additional** features for clustering.\n",
    "\n",
    "\n",
    "\n"
   ]
  },
  {
   "cell_type": "code",
   "execution_count": null,
   "metadata": {},
   "outputs": [
    {
     "data": {
      "text/html": [
       "<div>\n",
       "<style scoped>\n",
       "    .dataframe tbody tr th:only-of-type {\n",
       "        vertical-align: middle;\n",
       "    }\n",
       "\n",
       "    .dataframe tbody tr th {\n",
       "        vertical-align: top;\n",
       "    }\n",
       "\n",
       "    .dataframe thead th {\n",
       "        text-align: right;\n",
       "    }\n",
       "</style>\n",
       "<table border=\"1\" class=\"dataframe\">\n",
       "  <thead>\n",
       "    <tr style=\"text-align: right;\">\n",
       "      <th></th>\n",
       "      <th>movieId</th>\n",
       "      <th>title</th>\n",
       "      <th>genres</th>\n",
       "      <th>rating</th>\n",
       "    </tr>\n",
       "  </thead>\n",
       "  <tbody>\n",
       "    <tr>\n",
       "      <th>0</th>\n",
       "      <td>2</td>\n",
       "      <td>Jumanji (1995)</td>\n",
       "      <td>Adventure|Children|Fantasy</td>\n",
       "      <td>3.5</td>\n",
       "    </tr>\n",
       "    <tr>\n",
       "      <th>1</th>\n",
       "      <td>29</td>\n",
       "      <td>City of Lost Children, The (Cité des enfants p...</td>\n",
       "      <td>Adventure|Drama|Fantasy|Mystery|Sci-Fi</td>\n",
       "      <td>3.5</td>\n",
       "    </tr>\n",
       "    <tr>\n",
       "      <th>2</th>\n",
       "      <td>32</td>\n",
       "      <td>Twelve Monkeys (a.k.a. 12 Monkeys) (1995)</td>\n",
       "      <td>Mystery|Sci-Fi|Thriller</td>\n",
       "      <td>3.5</td>\n",
       "    </tr>\n",
       "    <tr>\n",
       "      <th>3</th>\n",
       "      <td>47</td>\n",
       "      <td>Seven (a.k.a. Se7en) (1995)</td>\n",
       "      <td>Mystery|Thriller</td>\n",
       "      <td>3.5</td>\n",
       "    </tr>\n",
       "    <tr>\n",
       "      <th>4</th>\n",
       "      <td>50</td>\n",
       "      <td>Usual Suspects, The (1995)</td>\n",
       "      <td>Crime|Mystery|Thriller</td>\n",
       "      <td>3.5</td>\n",
       "    </tr>\n",
       "    <tr>\n",
       "      <th>...</th>\n",
       "      <td>...</td>\n",
       "      <td>...</td>\n",
       "      <td>...</td>\n",
       "      <td>...</td>\n",
       "    </tr>\n",
       "    <tr>\n",
       "      <th>20000258</th>\n",
       "      <td>68954</td>\n",
       "      <td>Up (2009)</td>\n",
       "      <td>Adventure|Animation|Children|Drama</td>\n",
       "      <td>4.5</td>\n",
       "    </tr>\n",
       "    <tr>\n",
       "      <th>20000259</th>\n",
       "      <td>69526</td>\n",
       "      <td>Transformers: Revenge of the Fallen (2009)</td>\n",
       "      <td>Action|Adventure|Sci-Fi|IMAX</td>\n",
       "      <td>4.5</td>\n",
       "    </tr>\n",
       "    <tr>\n",
       "      <th>20000260</th>\n",
       "      <td>69644</td>\n",
       "      <td>Ice Age: Dawn of the Dinosaurs (2009)</td>\n",
       "      <td>Action|Adventure|Animation|Children|Comedy|Rom...</td>\n",
       "      <td>3.0</td>\n",
       "    </tr>\n",
       "    <tr>\n",
       "      <th>20000261</th>\n",
       "      <td>70286</td>\n",
       "      <td>District 9 (2009)</td>\n",
       "      <td>Mystery|Sci-Fi|Thriller</td>\n",
       "      <td>5.0</td>\n",
       "    </tr>\n",
       "    <tr>\n",
       "      <th>20000262</th>\n",
       "      <td>71619</td>\n",
       "      <td>Coco Before Chanel (Coco avant Chanel) (2009)</td>\n",
       "      <td>Drama</td>\n",
       "      <td>2.5</td>\n",
       "    </tr>\n",
       "  </tbody>\n",
       "</table>\n",
       "<p>20000263 rows × 4 columns</p>\n",
       "</div>"
      ],
      "text/plain": [
       "          movieId                                              title  \\\n",
       "0               2                                     Jumanji (1995)   \n",
       "1              29  City of Lost Children, The (Cité des enfants p...   \n",
       "2              32          Twelve Monkeys (a.k.a. 12 Monkeys) (1995)   \n",
       "3              47                        Seven (a.k.a. Se7en) (1995)   \n",
       "4              50                         Usual Suspects, The (1995)   \n",
       "...           ...                                                ...   \n",
       "20000258    68954                                          Up (2009)   \n",
       "20000259    69526         Transformers: Revenge of the Fallen (2009)   \n",
       "20000260    69644              Ice Age: Dawn of the Dinosaurs (2009)   \n",
       "20000261    70286                                  District 9 (2009)   \n",
       "20000262    71619      Coco Before Chanel (Coco avant Chanel) (2009)   \n",
       "\n",
       "                                                     genres  rating  \n",
       "0                                Adventure|Children|Fantasy     3.5  \n",
       "1                    Adventure|Drama|Fantasy|Mystery|Sci-Fi     3.5  \n",
       "2                                   Mystery|Sci-Fi|Thriller     3.5  \n",
       "3                                          Mystery|Thriller     3.5  \n",
       "4                                    Crime|Mystery|Thriller     3.5  \n",
       "...                                                     ...     ...  \n",
       "20000258                 Adventure|Animation|Children|Drama     4.5  \n",
       "20000259                       Action|Adventure|Sci-Fi|IMAX     4.5  \n",
       "20000260  Action|Adventure|Animation|Children|Comedy|Rom...     3.0  \n",
       "20000261                            Mystery|Sci-Fi|Thriller     5.0  \n",
       "20000262                                              Drama     2.5  \n",
       "\n",
       "[20000263 rows x 4 columns]"
      ]
     },
     "metadata": {},
     "output_type": "display_data"
    }
   ],
   "source": [
    "new_dataset = dataset_movies_ratings.drop(columns=['userId','timestamp'])\n",
    "new_order = ['movieId', 'title', 'genres', 'rating']\n",
    "new_dataset = new_dataset[new_order]\n",
    "new_dataset"
   ]
  },
  {
   "cell_type": "code",
   "execution_count": null,
   "metadata": {},
   "outputs": [
    {
     "name": "stdout",
     "output_type": "stream",
     "text": [
      "There are duplicates titles. Ci sono titoli ripetuti nel DataFrame.\n"
     ]
    }
   ],
   "source": [
    "\n",
    "duplicati = new_dataset['title'].duplicated().any()\n",
    "\n",
    "if duplicati:\n",
    "    print(\"There are duplicates titles. Ci sono titoli ripetuti nel DataFrame.\")\n",
    "else:\n",
    "    print(\"There are not duplicates titles. Non ci sono titoli ripetuti nel DataFrame.\")\n"
   ]
  },
  {
   "cell_type": "markdown",
   "metadata": {},
   "source": [
    "> We create the column `ratings_avg` for the *new_dataset* "
   ]
  },
  {
   "cell_type": "code",
   "execution_count": null,
   "metadata": {},
   "outputs": [
    {
     "name": "stdout",
     "output_type": "stream",
     "text": [
      "(26487, 4)\n"
     ]
    },
    {
     "data": {
      "text/html": [
       "<div>\n",
       "<style scoped>\n",
       "    .dataframe tbody tr th:only-of-type {\n",
       "        vertical-align: middle;\n",
       "    }\n",
       "\n",
       "    .dataframe tbody tr th {\n",
       "        vertical-align: top;\n",
       "    }\n",
       "\n",
       "    .dataframe thead th {\n",
       "        text-align: right;\n",
       "    }\n",
       "</style>\n",
       "<table border=\"1\" class=\"dataframe\">\n",
       "  <thead>\n",
       "    <tr style=\"text-align: right;\">\n",
       "      <th></th>\n",
       "      <th>movieId</th>\n",
       "      <th>title</th>\n",
       "      <th>genres</th>\n",
       "      <th>ratings_avg</th>\n",
       "    </tr>\n",
       "  </thead>\n",
       "  <tbody>\n",
       "    <tr>\n",
       "      <th>0</th>\n",
       "      <td>2</td>\n",
       "      <td>Jumanji (1995)</td>\n",
       "      <td>Adventure|Children|Fantasy</td>\n",
       "      <td>3.7</td>\n",
       "    </tr>\n",
       "    <tr>\n",
       "      <th>1</th>\n",
       "      <td>29</td>\n",
       "      <td>City of Lost Children, The (Cité des enfants p...</td>\n",
       "      <td>Adventure|Drama|Fantasy|Mystery|Sci-Fi</td>\n",
       "      <td>2.8</td>\n",
       "    </tr>\n",
       "    <tr>\n",
       "      <th>2</th>\n",
       "      <td>32</td>\n",
       "      <td>Twelve Monkeys (a.k.a. 12 Monkeys) (1995)</td>\n",
       "      <td>Mystery|Sci-Fi|Thriller</td>\n",
       "      <td>2.9</td>\n",
       "    </tr>\n",
       "    <tr>\n",
       "      <th>3</th>\n",
       "      <td>47</td>\n",
       "      <td>Seven (a.k.a. Se7en) (1995)</td>\n",
       "      <td>Mystery|Thriller</td>\n",
       "      <td>3.0</td>\n",
       "    </tr>\n",
       "    <tr>\n",
       "      <th>4</th>\n",
       "      <td>50</td>\n",
       "      <td>Usual Suspects, The (1995)</td>\n",
       "      <td>Crime|Mystery|Thriller</td>\n",
       "      <td>2.0</td>\n",
       "    </tr>\n",
       "  </tbody>\n",
       "</table>\n",
       "</div>"
      ],
      "text/plain": [
       "   movieId                                              title  \\\n",
       "0        2                                     Jumanji (1995)   \n",
       "1       29  City of Lost Children, The (Cité des enfants p...   \n",
       "2       32          Twelve Monkeys (a.k.a. 12 Monkeys) (1995)   \n",
       "3       47                        Seven (a.k.a. Se7en) (1995)   \n",
       "4       50                         Usual Suspects, The (1995)   \n",
       "\n",
       "                                   genres  ratings_avg  \n",
       "0              Adventure|Children|Fantasy          3.7  \n",
       "1  Adventure|Drama|Fantasy|Mystery|Sci-Fi          2.8  \n",
       "2                 Mystery|Sci-Fi|Thriller          2.9  \n",
       "3                        Mystery|Thriller          3.0  \n",
       "4                  Crime|Mystery|Thriller          2.0  "
      ]
     },
     "metadata": {},
     "output_type": "display_data"
    }
   ],
   "source": [
    "\n",
    "# Rimuovere le righe dove 'genres' è una stringa vuota o contiene solo spazi\n",
    "new_dataset = new_dataset[new_dataset['genres'].apply(lambda x: isinstance(x, str) and bool(x.strip()))]\n",
    "\n",
    "\n",
    "ratings_avg = new_dataset.groupby('title')['rating'].mean()\n",
    "new_dataset = new_dataset.drop(columns=['rating'])\n",
    "\n",
    "# we round the ratings_avg one terms after the comma\n",
    "arrotondo = [round(num, 1) for num in ratings_avg.values]\n",
    "\n",
    "\n",
    "# we delete the duplicate titles \n",
    "new_dataset = new_dataset.drop_duplicates(subset='title', keep='first')\n",
    "new_dataset['ratings_avg'] = arrotondo\n",
    "print(new_dataset.shape)\n",
    "new_dataset.head()\n"
   ]
  },
  {
   "cell_type": "markdown",
   "metadata": {},
   "source": [
    "> check if we eliminate the film how has no genres"
   ]
  },
  {
   "cell_type": "code",
   "execution_count": null,
   "metadata": {},
   "outputs": [
    {
     "name": "stdout",
     "output_type": "stream",
     "text": [
      "we eliminate the films how have no genres\n"
     ]
    }
   ],
   "source": [
    "# controllo \n",
    "check = new_dataset['genres'].apply(lambda x: isinstance(x, str) and bool(x.strip())).all()\n",
    "if check:\n",
    "    print(\"we eliminate the films how have no genres\")\n",
    "else:\n",
    "    print(\"we do not eliminate the films how have no genres\")"
   ]
  },
  {
   "cell_type": "markdown",
   "metadata": {},
   "source": [
    "> Now we give a mean genre for each film and choose at most 2 words for genre."
   ]
  },
  {
   "cell_type": "code",
   "execution_count": null,
   "metadata": {},
   "outputs": [],
   "source": [
    "def representative_genre(genres):\n",
    "    genres = genres.lower()\n",
    "    genres = genres.split(\"|\")\n",
    "    if 'children' in genres:\n",
    "        return 'children'\n",
    "    if 'fantasy' in genres and 'mystery' in genres:\n",
    "        return 'mystery'\n",
    "    if 'action' in genres and 'adventure' in genres:\n",
    "        return 'action adventure'\n",
    "    if 'action' in genres and 'fantasy' in genres:\n",
    "        return 'fantasy action'\n",
    "    if 'thriller' in genres and 'horror' in genres:\n",
    "        return 'horror'\n",
    "    if 'biographical' in genres:\n",
    "        return 'biographical'\n",
    "    if 'historical' in genres:\n",
    "        return 'historical'\n",
    "    \n",
    "    # va modificato\n",
    "    if 'comedy' in genres and 'drama' in genres:\n",
    "        return 'comedy'  # o 'drama', a seconda della predominanza\n",
    "    \n",
    "    return genres[0]  # In caso di conflitto, scegli il primo genere"
   ]
  },
  {
   "cell_type": "code",
   "execution_count": null,
   "metadata": {},
   "outputs": [
    {
     "data": {
      "text/html": [
       "<div>\n",
       "<style scoped>\n",
       "    .dataframe tbody tr th:only-of-type {\n",
       "        vertical-align: middle;\n",
       "    }\n",
       "\n",
       "    .dataframe tbody tr th {\n",
       "        vertical-align: top;\n",
       "    }\n",
       "\n",
       "    .dataframe thead th {\n",
       "        text-align: right;\n",
       "    }\n",
       "</style>\n",
       "<table border=\"1\" class=\"dataframe\">\n",
       "  <thead>\n",
       "    <tr style=\"text-align: right;\">\n",
       "      <th></th>\n",
       "      <th>movieId</th>\n",
       "      <th>title</th>\n",
       "      <th>genres</th>\n",
       "      <th>ratings_avg</th>\n",
       "    </tr>\n",
       "  </thead>\n",
       "  <tbody>\n",
       "    <tr>\n",
       "      <th>0</th>\n",
       "      <td>2</td>\n",
       "      <td>Jumanji (1995)</td>\n",
       "      <td>children</td>\n",
       "      <td>3.7</td>\n",
       "    </tr>\n",
       "    <tr>\n",
       "      <th>1</th>\n",
       "      <td>29</td>\n",
       "      <td>City of Lost Children, The (Cité des enfants p...</td>\n",
       "      <td>mystery</td>\n",
       "      <td>2.8</td>\n",
       "    </tr>\n",
       "    <tr>\n",
       "      <th>2</th>\n",
       "      <td>32</td>\n",
       "      <td>Twelve Monkeys (a.k.a. 12 Monkeys) (1995)</td>\n",
       "      <td>mystery</td>\n",
       "      <td>2.9</td>\n",
       "    </tr>\n",
       "    <tr>\n",
       "      <th>3</th>\n",
       "      <td>47</td>\n",
       "      <td>Seven (a.k.a. Se7en) (1995)</td>\n",
       "      <td>mystery</td>\n",
       "      <td>3.0</td>\n",
       "    </tr>\n",
       "    <tr>\n",
       "      <th>4</th>\n",
       "      <td>50</td>\n",
       "      <td>Usual Suspects, The (1995)</td>\n",
       "      <td>crime</td>\n",
       "      <td>2.0</td>\n",
       "    </tr>\n",
       "  </tbody>\n",
       "</table>\n",
       "</div>"
      ],
      "text/plain": [
       "   movieId                                              title    genres  \\\n",
       "0        2                                     Jumanji (1995)  children   \n",
       "1       29  City of Lost Children, The (Cité des enfants p...   mystery   \n",
       "2       32          Twelve Monkeys (a.k.a. 12 Monkeys) (1995)   mystery   \n",
       "3       47                        Seven (a.k.a. Se7en) (1995)   mystery   \n",
       "4       50                         Usual Suspects, The (1995)     crime   \n",
       "\n",
       "   ratings_avg  \n",
       "0          3.7  \n",
       "1          2.8  \n",
       "2          2.9  \n",
       "3          3.0  \n",
       "4          2.0  "
      ]
     },
     "metadata": {},
     "output_type": "display_data"
    }
   ],
   "source": [
    "new_genres = new_dataset['genres'].apply(lambda x: representative_genre(x))\n",
    "new_dataset[\"genres\"] = new_genres\n",
    "new_dataset.head()\n"
   ]
  },
  {
   "cell_type": "code",
   "execution_count": null,
   "metadata": {},
   "outputs": [
    {
     "name": "stdout",
     "output_type": "stream",
     "text": [
      "We filter all the genres in the dataframe, we have all genres like: thriller or action adventure\n"
     ]
    }
   ],
   "source": [
    "# Control for genres filter\n",
    "lista = []\n",
    "for string in new_genres:\n",
    "    if '|' in string:\n",
    "        lista.append( False ) \n",
    "    lista.append(True)\n",
    "if all(lista):\n",
    "    print(\"We filter all the genres in the dataframe, we have all genres like: thriller or action adventure\")\n",
    "else:\n",
    "    print(\"We does not filter all the genres in the dataframe, we still have genres like: adventure|comedy\")"
   ]
  },
  {
   "cell_type": "markdown",
   "metadata": {},
   "source": [
    "> let's see if some genre is empty"
   ]
  },
  {
   "cell_type": "code",
   "execution_count": null,
   "metadata": {},
   "outputs": [
    {
     "name": "stdout",
     "output_type": "stream",
     "text": [
      "all clean\n"
     ]
    }
   ],
   "source": [
    "lista = []\n",
    "for string in new_genres:\n",
    "    if len(string)== 0:\n",
    "        lista.append( False ) \n",
    "    lista.append(True)\n",
    "if all(lista):\n",
    "    print(\"all clean\")\n",
    "else:\n",
    "    print(\"not all clean\")"
   ]
  },
  {
   "cell_type": "code",
   "execution_count": null,
   "metadata": {},
   "outputs": [
    {
     "name": "stdout",
     "output_type": "stream",
     "text": [
      "{'horror', 'war', 'crime', 'animation', 'drama', 'adventure', 'western', 'fantasy', 'documentary', 'musical', 'imax', 'film-noir', 'action adventure', 'children', 'action', 'fantasy action', 'comedy', 'thriller', 'romance', 'mystery', 'sci-fi'}\n",
      "21\n",
      "<class 'set'>\n"
     ]
    }
   ],
   "source": [
    "# list contais all the filtered genres\n",
    "new_genres = set(new_genres)\n",
    "print(new_genres)\n",
    "print(len(new_genres))\n",
    "print(type(new_genres))"
   ]
  },
  {
   "cell_type": "markdown",
   "metadata": {},
   "source": [
    "> we read the file genome_tags.csv"
   ]
  },
  {
   "cell_type": "code",
   "execution_count": null,
   "metadata": {},
   "outputs": [
    {
     "data": {
      "text/html": [
       "<div>\n",
       "<style scoped>\n",
       "    .dataframe tbody tr th:only-of-type {\n",
       "        vertical-align: middle;\n",
       "    }\n",
       "\n",
       "    .dataframe tbody tr th {\n",
       "        vertical-align: top;\n",
       "    }\n",
       "\n",
       "    .dataframe thead th {\n",
       "        text-align: right;\n",
       "    }\n",
       "</style>\n",
       "<table border=\"1\" class=\"dataframe\">\n",
       "  <thead>\n",
       "    <tr style=\"text-align: right;\">\n",
       "      <th></th>\n",
       "      <th>movieId</th>\n",
       "      <th>title</th>\n",
       "      <th>genres</th>\n",
       "      <th>ratings_avg</th>\n",
       "    </tr>\n",
       "  </thead>\n",
       "  <tbody>\n",
       "    <tr>\n",
       "      <th>0</th>\n",
       "      <td>2</td>\n",
       "      <td>Jumanji (1995)</td>\n",
       "      <td>children</td>\n",
       "      <td>3.7</td>\n",
       "    </tr>\n",
       "    <tr>\n",
       "      <th>1</th>\n",
       "      <td>29</td>\n",
       "      <td>City of Lost Children, The (Cité des enfants p...</td>\n",
       "      <td>mystery</td>\n",
       "      <td>2.8</td>\n",
       "    </tr>\n",
       "    <tr>\n",
       "      <th>2</th>\n",
       "      <td>32</td>\n",
       "      <td>Twelve Monkeys (a.k.a. 12 Monkeys) (1995)</td>\n",
       "      <td>mystery</td>\n",
       "      <td>2.9</td>\n",
       "    </tr>\n",
       "    <tr>\n",
       "      <th>3</th>\n",
       "      <td>47</td>\n",
       "      <td>Seven (a.k.a. Se7en) (1995)</td>\n",
       "      <td>mystery</td>\n",
       "      <td>3.0</td>\n",
       "    </tr>\n",
       "    <tr>\n",
       "      <th>4</th>\n",
       "      <td>50</td>\n",
       "      <td>Usual Suspects, The (1995)</td>\n",
       "      <td>crime</td>\n",
       "      <td>2.0</td>\n",
       "    </tr>\n",
       "  </tbody>\n",
       "</table>\n",
       "</div>"
      ],
      "text/plain": [
       "   movieId                                              title    genres  \\\n",
       "0        2                                     Jumanji (1995)  children   \n",
       "1       29  City of Lost Children, The (Cité des enfants p...   mystery   \n",
       "2       32          Twelve Monkeys (a.k.a. 12 Monkeys) (1995)   mystery   \n",
       "3       47                        Seven (a.k.a. Se7en) (1995)   mystery   \n",
       "4       50                         Usual Suspects, The (1995)     crime   \n",
       "\n",
       "   ratings_avg  \n",
       "0          3.7  \n",
       "1          2.8  \n",
       "2          2.9  \n",
       "3          3.0  \n",
       "4          2.0  "
      ]
     },
     "metadata": {},
     "output_type": "display_data"
    }
   ],
   "source": [
    "new_dataset.head()"
   ]
  },
  {
   "cell_type": "code",
   "execution_count": null,
   "metadata": {},
   "outputs": [
    {
     "name": "stdout",
     "output_type": "stream",
     "text": [
      "   tagId           tag\n",
      "0      1           007\n",
      "1      2  007 (series)\n",
      "2      3  18th century\n",
      "3      4         1920s\n",
      "4      5         1930s\n",
      "5      6         1950s\n",
      "6      7         1960s\n",
      "7      8         1970s\n",
      "8      9         1980s\n",
      "9     10  19th century\n",
      "new_dataset shape:  (26487, 4)\n",
      "dataset_genome_tags shape: (1128, 2)\n"
     ]
    }
   ],
   "source": [
    "# we read the genome_tags.csv\n",
    "movie_tag = \"archive/genome_tags.csv\"\n",
    "dataset_genome_tags = pd.read_csv(movie_tag)\n",
    "\n",
    "# remove the empty tags\n",
    "dataset_genome_tags = dataset_genome_tags[dataset_genome_tags['tag'].apply(lambda x: isinstance(x, str) and bool(x.strip()))]\n",
    "\n",
    "print(dataset_genome_tags.head(10))\n",
    "print(\"new_dataset shape: \",new_dataset.shape)\n",
    "print(\"dataset_genome_tags shape:\", dataset_genome_tags.shape)"
   ]
  },
  {
   "cell_type": "code",
   "execution_count": null,
   "metadata": {},
   "outputs": [
    {
     "name": "stdout",
     "output_type": "stream",
     "text": [
      "   movieId  tagId  relevance\n",
      "0        1      1    0.02500\n",
      "1        1      2    0.02500\n",
      "2        1      3    0.05775\n",
      "3        1      4    0.09675\n",
      "4        1      5    0.14675\n",
      "5        1      6    0.21700\n",
      "6        1      7    0.06700\n",
      "7        1      8    0.26275\n",
      "8        1      9    0.26200\n",
      "9        1     10    0.03200\n",
      "dataset_genome_score shape: (11709768, 3)\n"
     ]
    }
   ],
   "source": [
    "# we read the genome_scores.csv\n",
    "genome_score = \"archive/genome_scores.csv\"\n",
    "dataset_genome_score = pd.read_csv(genome_score)\n",
    "\n",
    "# remove the empty tags\n",
    "dataset_genome_score = dataset_genome_score.dropna()\n",
    "\n",
    "print(dataset_genome_score.head(10))\n",
    "print(\"dataset_genome_score shape:\", dataset_genome_score.shape)"
   ]
  },
  {
   "cell_type": "markdown",
   "metadata": {},
   "source": [
    "> We create the column `relevant_genome_tag`"
   ]
  },
  {
   "cell_type": "code",
   "execution_count": null,
   "metadata": {},
   "outputs": [
    {
     "data": {
      "text/html": [
       "<div>\n",
       "<style scoped>\n",
       "    .dataframe tbody tr th:only-of-type {\n",
       "        vertical-align: middle;\n",
       "    }\n",
       "\n",
       "    .dataframe tbody tr th {\n",
       "        vertical-align: top;\n",
       "    }\n",
       "\n",
       "    .dataframe thead th {\n",
       "        text-align: right;\n",
       "    }\n",
       "</style>\n",
       "<table border=\"1\" class=\"dataframe\">\n",
       "  <thead>\n",
       "    <tr style=\"text-align: right;\">\n",
       "      <th></th>\n",
       "      <th>movieId</th>\n",
       "      <th>tagId</th>\n",
       "      <th>relevance</th>\n",
       "      <th>tag</th>\n",
       "    </tr>\n",
       "  </thead>\n",
       "  <tbody>\n",
       "    <tr>\n",
       "      <th>0</th>\n",
       "      <td>1</td>\n",
       "      <td>1</td>\n",
       "      <td>0.02500</td>\n",
       "      <td>007</td>\n",
       "    </tr>\n",
       "    <tr>\n",
       "      <th>1</th>\n",
       "      <td>1</td>\n",
       "      <td>2</td>\n",
       "      <td>0.02500</td>\n",
       "      <td>007 (series)</td>\n",
       "    </tr>\n",
       "    <tr>\n",
       "      <th>2</th>\n",
       "      <td>1</td>\n",
       "      <td>3</td>\n",
       "      <td>0.05775</td>\n",
       "      <td>18th century</td>\n",
       "    </tr>\n",
       "    <tr>\n",
       "      <th>3</th>\n",
       "      <td>1</td>\n",
       "      <td>4</td>\n",
       "      <td>0.09675</td>\n",
       "      <td>1920s</td>\n",
       "    </tr>\n",
       "    <tr>\n",
       "      <th>4</th>\n",
       "      <td>1</td>\n",
       "      <td>5</td>\n",
       "      <td>0.14675</td>\n",
       "      <td>1930s</td>\n",
       "    </tr>\n",
       "    <tr>\n",
       "      <th>5</th>\n",
       "      <td>1</td>\n",
       "      <td>6</td>\n",
       "      <td>0.21700</td>\n",
       "      <td>1950s</td>\n",
       "    </tr>\n",
       "    <tr>\n",
       "      <th>6</th>\n",
       "      <td>1</td>\n",
       "      <td>7</td>\n",
       "      <td>0.06700</td>\n",
       "      <td>1960s</td>\n",
       "    </tr>\n",
       "    <tr>\n",
       "      <th>7</th>\n",
       "      <td>1</td>\n",
       "      <td>8</td>\n",
       "      <td>0.26275</td>\n",
       "      <td>1970s</td>\n",
       "    </tr>\n",
       "    <tr>\n",
       "      <th>8</th>\n",
       "      <td>1</td>\n",
       "      <td>9</td>\n",
       "      <td>0.26200</td>\n",
       "      <td>1980s</td>\n",
       "    </tr>\n",
       "    <tr>\n",
       "      <th>9</th>\n",
       "      <td>1</td>\n",
       "      <td>10</td>\n",
       "      <td>0.03200</td>\n",
       "      <td>19th century</td>\n",
       "    </tr>\n",
       "  </tbody>\n",
       "</table>\n",
       "</div>"
      ],
      "text/plain": [
       "   movieId  tagId  relevance           tag\n",
       "0        1      1    0.02500           007\n",
       "1        1      2    0.02500  007 (series)\n",
       "2        1      3    0.05775  18th century\n",
       "3        1      4    0.09675         1920s\n",
       "4        1      5    0.14675         1930s\n",
       "5        1      6    0.21700         1950s\n",
       "6        1      7    0.06700         1960s\n",
       "7        1      8    0.26275         1970s\n",
       "8        1      9    0.26200         1980s\n",
       "9        1     10    0.03200  19th century"
      ]
     },
     "metadata": {},
     "output_type": "display_data"
    }
   ],
   "source": [
    "dataset_tag = pd.merge(dataset_genome_score,dataset_genome_tags, on='tagId')\n",
    "dataset_tag.head(10)"
   ]
  },
  {
   "cell_type": "markdown",
   "metadata": {},
   "source": [
    "> for choosing the most relevant tag we took the one with highest relevance"
   ]
  },
  {
   "cell_type": "code",
   "execution_count": null,
   "metadata": {},
   "outputs": [
    {
     "data": {
      "text/html": [
       "<div>\n",
       "<style scoped>\n",
       "    .dataframe tbody tr th:only-of-type {\n",
       "        vertical-align: middle;\n",
       "    }\n",
       "\n",
       "    .dataframe tbody tr th {\n",
       "        vertical-align: top;\n",
       "    }\n",
       "\n",
       "    .dataframe thead th {\n",
       "        text-align: right;\n",
       "    }\n",
       "</style>\n",
       "<table border=\"1\" class=\"dataframe\">\n",
       "  <thead>\n",
       "    <tr style=\"text-align: right;\">\n",
       "      <th></th>\n",
       "      <th>movieId</th>\n",
       "      <th>title</th>\n",
       "      <th>genres</th>\n",
       "      <th>ratings_avg</th>\n",
       "      <th>relevant_genome_tag</th>\n",
       "    </tr>\n",
       "  </thead>\n",
       "  <tbody>\n",
       "    <tr>\n",
       "      <th>0</th>\n",
       "      <td>2</td>\n",
       "      <td>Jumanji (1995)</td>\n",
       "      <td>children</td>\n",
       "      <td>3.7</td>\n",
       "      <td>adventure</td>\n",
       "    </tr>\n",
       "    <tr>\n",
       "      <th>1</th>\n",
       "      <td>29</td>\n",
       "      <td>City of Lost Children, The (Cité des enfants p...</td>\n",
       "      <td>mystery</td>\n",
       "      <td>2.8</td>\n",
       "      <td>dark fantasy</td>\n",
       "    </tr>\n",
       "    <tr>\n",
       "      <th>2</th>\n",
       "      <td>32</td>\n",
       "      <td>Twelve Monkeys (a.k.a. 12 Monkeys) (1995)</td>\n",
       "      <td>mystery</td>\n",
       "      <td>2.9</td>\n",
       "      <td>future</td>\n",
       "    </tr>\n",
       "    <tr>\n",
       "      <th>3</th>\n",
       "      <td>47</td>\n",
       "      <td>Seven (a.k.a. Se7en) (1995)</td>\n",
       "      <td>mystery</td>\n",
       "      <td>3.0</td>\n",
       "      <td>serial killer</td>\n",
       "    </tr>\n",
       "    <tr>\n",
       "      <th>4</th>\n",
       "      <td>50</td>\n",
       "      <td>Usual Suspects, The (1995)</td>\n",
       "      <td>crime</td>\n",
       "      <td>2.0</td>\n",
       "      <td>oscar (best supporting actor)</td>\n",
       "    </tr>\n",
       "    <tr>\n",
       "      <th>5</th>\n",
       "      <td>112</td>\n",
       "      <td>Rumble in the Bronx (Hont faan kui) (1995)</td>\n",
       "      <td>action adventure</td>\n",
       "      <td>3.7</td>\n",
       "      <td>martial arts</td>\n",
       "    </tr>\n",
       "    <tr>\n",
       "      <th>6</th>\n",
       "      <td>151</td>\n",
       "      <td>Rob Roy (1995)</td>\n",
       "      <td>action</td>\n",
       "      <td>3.0</td>\n",
       "      <td>scotland</td>\n",
       "    </tr>\n",
       "    <tr>\n",
       "      <th>7</th>\n",
       "      <td>223</td>\n",
       "      <td>Clerks (1994)</td>\n",
       "      <td>comedy</td>\n",
       "      <td>2.2</td>\n",
       "      <td>view askew</td>\n",
       "    </tr>\n",
       "    <tr>\n",
       "      <th>8</th>\n",
       "      <td>253</td>\n",
       "      <td>Interview with the Vampire: The Vampire Chroni...</td>\n",
       "      <td>drama</td>\n",
       "      <td>2.3</td>\n",
       "      <td>vampires</td>\n",
       "    </tr>\n",
       "    <tr>\n",
       "      <th>9</th>\n",
       "      <td>260</td>\n",
       "      <td>Star Wars: Episode IV - A New Hope (1977)</td>\n",
       "      <td>action adventure</td>\n",
       "      <td>2.6</td>\n",
       "      <td>space opera</td>\n",
       "    </tr>\n",
       "  </tbody>\n",
       "</table>\n",
       "</div>"
      ],
      "text/plain": [
       "   movieId                                              title  \\\n",
       "0        2                                     Jumanji (1995)   \n",
       "1       29  City of Lost Children, The (Cité des enfants p...   \n",
       "2       32          Twelve Monkeys (a.k.a. 12 Monkeys) (1995)   \n",
       "3       47                        Seven (a.k.a. Se7en) (1995)   \n",
       "4       50                         Usual Suspects, The (1995)   \n",
       "5      112         Rumble in the Bronx (Hont faan kui) (1995)   \n",
       "6      151                                     Rob Roy (1995)   \n",
       "7      223                                      Clerks (1994)   \n",
       "8      253  Interview with the Vampire: The Vampire Chroni...   \n",
       "9      260          Star Wars: Episode IV - A New Hope (1977)   \n",
       "\n",
       "             genres  ratings_avg            relevant_genome_tag  \n",
       "0          children          3.7                      adventure  \n",
       "1           mystery          2.8                   dark fantasy  \n",
       "2           mystery          2.9                         future  \n",
       "3           mystery          3.0                  serial killer  \n",
       "4             crime          2.0  oscar (best supporting actor)  \n",
       "5  action adventure          3.7                   martial arts  \n",
       "6            action          3.0                       scotland  \n",
       "7            comedy          2.2                     view askew  \n",
       "8             drama          2.3                       vampires  \n",
       "9  action adventure          2.6                    space opera  "
      ]
     },
     "metadata": {},
     "output_type": "display_data"
    }
   ],
   "source": [
    "# we filter dataset_tag to the tag with highest relevance\n",
    "idx_max_relevance = dataset_tag.groupby('movieId')['relevance'].idxmax()\n",
    "df_max_relevance = dataset_tag.loc[idx_max_relevance]\n",
    "# add the relevant_genome_tag column in the new_dataset\n",
    "new_dataset = pd.merge(new_dataset, df_max_relevance, on='movieId', how='inner')\n",
    "new_dataset = new_dataset.drop(columns=['tagId'])\n",
    "new_dataset = new_dataset.drop(columns=['relevance'])\n",
    "new_dataset = new_dataset.rename(columns={'tag': 'relevant_genome_tag'})\n",
    "new_dataset.head(10)"
   ]
  },
  {
   "cell_type": "markdown",
   "metadata": {},
   "source": [
    "> Last step: create and add the last column `common_user_tag`"
   ]
  },
  {
   "cell_type": "code",
   "execution_count": null,
   "metadata": {},
   "outputs": [
    {
     "name": "stdout",
     "output_type": "stream",
     "text": [
      "   userId  movieId               tag\n",
      "0      18     4141       Mark Waters\n",
      "1      65      208         dark hero\n",
      "2      65      353         dark hero\n",
      "3      65      521     noir thriller\n",
      "4      65      592         dark hero\n",
      "5      65      668         bollywood\n",
      "6      65      898  screwball comedy\n",
      "7      65     1248     noir thriller\n",
      "8      65     1391              mars\n",
      "9      65     1617          neo-noir\n",
      "person_tag shape: (465541, 3)\n"
     ]
    }
   ],
   "source": [
    "# we read the tag.csv\n",
    "tag = \"archive/tag.csv\"\n",
    "person_tag = pd.read_csv(tag)\n",
    "\n",
    "# remove the empty tags\n",
    "person_tag = person_tag[person_tag['tag'].apply(lambda x: isinstance(x, str) and bool(x.strip()))]\n",
    "person_tag = person_tag.drop( columns= ['timestamp'])\n",
    "print(person_tag.head(10))\n",
    "print(\"person_tag shape:\", person_tag.shape)\n"
   ]
  },
  {
   "cell_type": "markdown",
   "metadata": {},
   "source": [
    "> manca da contare e prende il massimo delle occerrenze per tag rispetto agli user"
   ]
  },
  {
   "cell_type": "code",
   "execution_count": null,
   "metadata": {},
   "outputs": [],
   "source": [
    "# Funzione per selezionare i tagId con il numero massimo di occorrenze per movieId\n",
    "\n",
    "def get_max_occuring_tags(group):\n",
    "    # Trova il numero massimo di occorrenze per il movieId\n",
    "    max_count = group['count'].max()\n",
    "    # Filtra i tagId che hanno il numero massimo di occorrenze\n",
    "    max_tags = group[group['count'] == max_count]['tagId'].tolist()\n",
    "    return max_tags\n"
   ]
  },
  {
   "cell_type": "code",
   "execution_count": null,
   "metadata": {},
   "outputs": [
    {
     "data": {
      "text/html": [
       "<div>\n",
       "<style scoped>\n",
       "    .dataframe tbody tr th:only-of-type {\n",
       "        vertical-align: middle;\n",
       "    }\n",
       "\n",
       "    .dataframe tbody tr th {\n",
       "        vertical-align: top;\n",
       "    }\n",
       "\n",
       "    .dataframe thead th {\n",
       "        text-align: right;\n",
       "    }\n",
       "</style>\n",
       "<table border=\"1\" class=\"dataframe\">\n",
       "  <thead>\n",
       "    <tr style=\"text-align: right;\">\n",
       "      <th></th>\n",
       "      <th>movieId</th>\n",
       "      <th>tag_max</th>\n",
       "    </tr>\n",
       "  </thead>\n",
       "  <tbody>\n",
       "    <tr>\n",
       "      <th>0</th>\n",
       "      <td>1</td>\n",
       "      <td>Pixar</td>\n",
       "    </tr>\n",
       "    <tr>\n",
       "      <th>84</th>\n",
       "      <td>2</td>\n",
       "      <td>Robin Williams</td>\n",
       "    </tr>\n",
       "    <tr>\n",
       "      <th>119</th>\n",
       "      <td>3</td>\n",
       "      <td>moldy</td>\n",
       "    </tr>\n",
       "    <tr>\n",
       "      <th>134</th>\n",
       "      <td>4</td>\n",
       "      <td>characters</td>\n",
       "    </tr>\n",
       "    <tr>\n",
       "      <th>138</th>\n",
       "      <td>5</td>\n",
       "      <td>steve martin</td>\n",
       "    </tr>\n",
       "    <tr>\n",
       "      <th>...</th>\n",
       "      <td>...</td>\n",
       "      <td>...</td>\n",
       "    </tr>\n",
       "    <tr>\n",
       "      <th>200348</th>\n",
       "      <td>131054</td>\n",
       "      <td>dinosaurs</td>\n",
       "    </tr>\n",
       "    <tr>\n",
       "      <th>200349</th>\n",
       "      <td>131082</td>\n",
       "      <td>Yoshitomo Nara</td>\n",
       "    </tr>\n",
       "    <tr>\n",
       "      <th>200351</th>\n",
       "      <td>131164</td>\n",
       "      <td>Vietnam War</td>\n",
       "    </tr>\n",
       "    <tr>\n",
       "      <th>200352</th>\n",
       "      <td>131170</td>\n",
       "      <td>alternate reality</td>\n",
       "    </tr>\n",
       "    <tr>\n",
       "      <th>200353</th>\n",
       "      <td>131258</td>\n",
       "      <td>Korea</td>\n",
       "    </tr>\n",
       "  </tbody>\n",
       "</table>\n",
       "<p>19545 rows × 2 columns</p>\n",
       "</div>"
      ],
      "text/plain": [
       "        movieId            tag_max\n",
       "0             1              Pixar\n",
       "84            2     Robin Williams\n",
       "119           3              moldy\n",
       "134           4         characters\n",
       "138           5       steve martin\n",
       "...         ...                ...\n",
       "200348   131054          dinosaurs\n",
       "200349   131082     Yoshitomo Nara\n",
       "200351   131164        Vietnam War\n",
       "200352   131170  alternate reality\n",
       "200353   131258              Korea\n",
       "\n",
       "[19545 rows x 2 columns]"
      ]
     },
     "metadata": {},
     "output_type": "display_data"
    }
   ],
   "source": [
    "# count the occurrences\n",
    "tag_counts = person_tag.groupby(['movieId', 'tag']).size().reset_index(name='count')\n",
    "# Trova il tag con il massimo numero di occorrenze per ogni movieId\n",
    "max_tag_per_movie = tag_counts.loc[tag_counts.groupby('movieId')['count'].idxmax()]\n",
    "\n",
    "# 2. Ora abbiamo un dataframe con una sola riga per ogni movieId, che contiene il tag con il massimo count\n",
    "#    Per ogni movieId, viene associato solo il tag con il massimo numero di occorrenze\n",
    "# 3. Uniamo questo dataframe con il dataframe originale\n",
    "tag_counts_single_tag = tag_counts.merge(max_tag_per_movie[['movieId', 'tag']], on='movieId', how='left', suffixes=('', '_max'))\n",
    "\n",
    "# Aggiungiamo solo la colonna del tag massimo\n",
    "common_user_tag = tag_counts_single_tag[['movieId', 'tag_max']].drop_duplicates()\n",
    "common_user_tag"
   ]
  },
  {
   "cell_type": "code",
   "execution_count": null,
   "metadata": {},
   "outputs": [
    {
     "data": {
      "text/html": [
       "<div>\n",
       "<style scoped>\n",
       "    .dataframe tbody tr th:only-of-type {\n",
       "        vertical-align: middle;\n",
       "    }\n",
       "\n",
       "    .dataframe tbody tr th {\n",
       "        vertical-align: top;\n",
       "    }\n",
       "\n",
       "    .dataframe thead th {\n",
       "        text-align: right;\n",
       "    }\n",
       "</style>\n",
       "<table border=\"1\" class=\"dataframe\">\n",
       "  <thead>\n",
       "    <tr style=\"text-align: right;\">\n",
       "      <th></th>\n",
       "      <th>movieId</th>\n",
       "      <th>title</th>\n",
       "      <th>genres</th>\n",
       "      <th>ratings_avg</th>\n",
       "      <th>relevant_genome_tag</th>\n",
       "      <th>common_user_tag</th>\n",
       "    </tr>\n",
       "  </thead>\n",
       "  <tbody>\n",
       "    <tr>\n",
       "      <th>0</th>\n",
       "      <td>2</td>\n",
       "      <td>Jumanji (1995)</td>\n",
       "      <td>children</td>\n",
       "      <td>3.7</td>\n",
       "      <td>adventure</td>\n",
       "      <td>Robin Williams</td>\n",
       "    </tr>\n",
       "    <tr>\n",
       "      <th>1</th>\n",
       "      <td>29</td>\n",
       "      <td>City of Lost Children, The (Cité des enfants p...</td>\n",
       "      <td>mystery</td>\n",
       "      <td>2.8</td>\n",
       "      <td>dark fantasy</td>\n",
       "      <td>dark</td>\n",
       "    </tr>\n",
       "    <tr>\n",
       "      <th>2</th>\n",
       "      <td>32</td>\n",
       "      <td>Twelve Monkeys (a.k.a. 12 Monkeys) (1995)</td>\n",
       "      <td>mystery</td>\n",
       "      <td>2.9</td>\n",
       "      <td>future</td>\n",
       "      <td>time travel</td>\n",
       "    </tr>\n",
       "    <tr>\n",
       "      <th>3</th>\n",
       "      <td>47</td>\n",
       "      <td>Seven (a.k.a. Se7en) (1995)</td>\n",
       "      <td>mystery</td>\n",
       "      <td>3.0</td>\n",
       "      <td>serial killer</td>\n",
       "      <td>serial killer</td>\n",
       "    </tr>\n",
       "    <tr>\n",
       "      <th>4</th>\n",
       "      <td>50</td>\n",
       "      <td>Usual Suspects, The (1995)</td>\n",
       "      <td>crime</td>\n",
       "      <td>2.0</td>\n",
       "      <td>oscar (best supporting actor)</td>\n",
       "      <td>twist ending</td>\n",
       "    </tr>\n",
       "    <tr>\n",
       "      <th>5</th>\n",
       "      <td>112</td>\n",
       "      <td>Rumble in the Bronx (Hont faan kui) (1995)</td>\n",
       "      <td>action adventure</td>\n",
       "      <td>3.7</td>\n",
       "      <td>martial arts</td>\n",
       "      <td>Jackie Chan</td>\n",
       "    </tr>\n",
       "    <tr>\n",
       "      <th>6</th>\n",
       "      <td>151</td>\n",
       "      <td>Rob Roy (1995)</td>\n",
       "      <td>action</td>\n",
       "      <td>3.0</td>\n",
       "      <td>scotland</td>\n",
       "      <td>18th century</td>\n",
       "    </tr>\n",
       "    <tr>\n",
       "      <th>7</th>\n",
       "      <td>223</td>\n",
       "      <td>Clerks (1994)</td>\n",
       "      <td>comedy</td>\n",
       "      <td>2.2</td>\n",
       "      <td>view askew</td>\n",
       "      <td>Kevin Smith</td>\n",
       "    </tr>\n",
       "    <tr>\n",
       "      <th>8</th>\n",
       "      <td>253</td>\n",
       "      <td>Interview with the Vampire: The Vampire Chroni...</td>\n",
       "      <td>drama</td>\n",
       "      <td>2.3</td>\n",
       "      <td>vampires</td>\n",
       "      <td>vampires</td>\n",
       "    </tr>\n",
       "    <tr>\n",
       "      <th>9</th>\n",
       "      <td>260</td>\n",
       "      <td>Star Wars: Episode IV - A New Hope (1977)</td>\n",
       "      <td>action adventure</td>\n",
       "      <td>2.6</td>\n",
       "      <td>space opera</td>\n",
       "      <td>sci-fi</td>\n",
       "    </tr>\n",
       "  </tbody>\n",
       "</table>\n",
       "</div>"
      ],
      "text/plain": [
       "   movieId                                              title  \\\n",
       "0        2                                     Jumanji (1995)   \n",
       "1       29  City of Lost Children, The (Cité des enfants p...   \n",
       "2       32          Twelve Monkeys (a.k.a. 12 Monkeys) (1995)   \n",
       "3       47                        Seven (a.k.a. Se7en) (1995)   \n",
       "4       50                         Usual Suspects, The (1995)   \n",
       "5      112         Rumble in the Bronx (Hont faan kui) (1995)   \n",
       "6      151                                     Rob Roy (1995)   \n",
       "7      223                                      Clerks (1994)   \n",
       "8      253  Interview with the Vampire: The Vampire Chroni...   \n",
       "9      260          Star Wars: Episode IV - A New Hope (1977)   \n",
       "\n",
       "             genres  ratings_avg            relevant_genome_tag  \\\n",
       "0          children          3.7                      adventure   \n",
       "1           mystery          2.8                   dark fantasy   \n",
       "2           mystery          2.9                         future   \n",
       "3           mystery          3.0                  serial killer   \n",
       "4             crime          2.0  oscar (best supporting actor)   \n",
       "5  action adventure          3.7                   martial arts   \n",
       "6            action          3.0                       scotland   \n",
       "7            comedy          2.2                     view askew   \n",
       "8             drama          2.3                       vampires   \n",
       "9  action adventure          2.6                    space opera   \n",
       "\n",
       "  common_user_tag  \n",
       "0  Robin Williams  \n",
       "1            dark  \n",
       "2     time travel  \n",
       "3   serial killer  \n",
       "4    twist ending  \n",
       "5     Jackie Chan  \n",
       "6    18th century  \n",
       "7     Kevin Smith  \n",
       "8        vampires  \n",
       "9          sci-fi  "
      ]
     },
     "metadata": {},
     "output_type": "display_data"
    }
   ],
   "source": [
    "# uniamo common_uesr_tag nel new_dataset\n",
    "new_dataset = pd.merge(new_dataset, common_user_tag, on='movieId', how='inner')\n",
    "new_dataset = new_dataset.rename(columns={'tag_max': 'common_user_tag'})\n",
    "title_column =  new_dataset[['movieId', 'title']]\n",
    "new_dataset.head(10)"
   ]
  },
  {
   "cell_type": "markdown",
   "metadata": {},
   "source": [
    "> we create the column `release_year`.\n",
    "\n",
    "So we split the year from the titles"
   ]
  },
  {
   "cell_type": "code",
   "execution_count": null,
   "metadata": {},
   "outputs": [
    {
     "name": "stderr",
     "output_type": "stream",
     "text": [
      "/var/folders/56/h1kd8s5j72v89_fbkl21jmw00000gn/T/ipykernel_2973/2471747969.py:6: SettingWithCopyWarning: \n",
      "A value is trying to be set on a copy of a slice from a DataFrame.\n",
      "Try using .loc[row_indexer,col_indexer] = value instead\n",
      "\n",
      "See the caveats in the documentation: https://pandas.pydata.org/pandas-docs/stable/user_guide/indexing.html#returning-a-view-versus-a-copy\n",
      "  title_column['release_year'] = title_column['title'].apply(extract_numbers_from_title)\n"
     ]
    },
    {
     "data": {
      "text/html": [
       "<div>\n",
       "<style scoped>\n",
       "    .dataframe tbody tr th:only-of-type {\n",
       "        vertical-align: middle;\n",
       "    }\n",
       "\n",
       "    .dataframe tbody tr th {\n",
       "        vertical-align: top;\n",
       "    }\n",
       "\n",
       "    .dataframe thead th {\n",
       "        text-align: right;\n",
       "    }\n",
       "</style>\n",
       "<table border=\"1\" class=\"dataframe\">\n",
       "  <thead>\n",
       "    <tr style=\"text-align: right;\">\n",
       "      <th></th>\n",
       "      <th>movieId</th>\n",
       "      <th>title</th>\n",
       "      <th>genres</th>\n",
       "      <th>ratings_avg</th>\n",
       "      <th>relevant_genome_tag</th>\n",
       "      <th>common_user_tag</th>\n",
       "      <th>release_year</th>\n",
       "    </tr>\n",
       "  </thead>\n",
       "  <tbody>\n",
       "    <tr>\n",
       "      <th>0</th>\n",
       "      <td>2</td>\n",
       "      <td>Jumanji (1995)</td>\n",
       "      <td>children</td>\n",
       "      <td>3.7</td>\n",
       "      <td>adventure</td>\n",
       "      <td>Robin Williams</td>\n",
       "      <td>[1995]</td>\n",
       "    </tr>\n",
       "    <tr>\n",
       "      <th>1</th>\n",
       "      <td>29</td>\n",
       "      <td>City of Lost Children, The (Cité des enfants p...</td>\n",
       "      <td>mystery</td>\n",
       "      <td>2.8</td>\n",
       "      <td>dark fantasy</td>\n",
       "      <td>dark</td>\n",
       "      <td>[1995]</td>\n",
       "    </tr>\n",
       "    <tr>\n",
       "      <th>2</th>\n",
       "      <td>32</td>\n",
       "      <td>Twelve Monkeys (a.k.a. 12 Monkeys) (1995)</td>\n",
       "      <td>mystery</td>\n",
       "      <td>2.9</td>\n",
       "      <td>future</td>\n",
       "      <td>time travel</td>\n",
       "      <td>[1995]</td>\n",
       "    </tr>\n",
       "    <tr>\n",
       "      <th>3</th>\n",
       "      <td>47</td>\n",
       "      <td>Seven (a.k.a. Se7en) (1995)</td>\n",
       "      <td>mystery</td>\n",
       "      <td>3.0</td>\n",
       "      <td>serial killer</td>\n",
       "      <td>serial killer</td>\n",
       "      <td>[1995]</td>\n",
       "    </tr>\n",
       "    <tr>\n",
       "      <th>4</th>\n",
       "      <td>50</td>\n",
       "      <td>Usual Suspects, The (1995)</td>\n",
       "      <td>crime</td>\n",
       "      <td>2.0</td>\n",
       "      <td>oscar (best supporting actor)</td>\n",
       "      <td>twist ending</td>\n",
       "      <td>[1995]</td>\n",
       "    </tr>\n",
       "    <tr>\n",
       "      <th>5</th>\n",
       "      <td>112</td>\n",
       "      <td>Rumble in the Bronx (Hont faan kui) (1995)</td>\n",
       "      <td>action adventure</td>\n",
       "      <td>3.7</td>\n",
       "      <td>martial arts</td>\n",
       "      <td>Jackie Chan</td>\n",
       "      <td>[1995]</td>\n",
       "    </tr>\n",
       "    <tr>\n",
       "      <th>6</th>\n",
       "      <td>151</td>\n",
       "      <td>Rob Roy (1995)</td>\n",
       "      <td>action</td>\n",
       "      <td>3.0</td>\n",
       "      <td>scotland</td>\n",
       "      <td>18th century</td>\n",
       "      <td>[1995]</td>\n",
       "    </tr>\n",
       "    <tr>\n",
       "      <th>7</th>\n",
       "      <td>223</td>\n",
       "      <td>Clerks (1994)</td>\n",
       "      <td>comedy</td>\n",
       "      <td>2.2</td>\n",
       "      <td>view askew</td>\n",
       "      <td>Kevin Smith</td>\n",
       "      <td>[1994]</td>\n",
       "    </tr>\n",
       "    <tr>\n",
       "      <th>8</th>\n",
       "      <td>253</td>\n",
       "      <td>Interview with the Vampire: The Vampire Chroni...</td>\n",
       "      <td>drama</td>\n",
       "      <td>2.3</td>\n",
       "      <td>vampires</td>\n",
       "      <td>vampires</td>\n",
       "      <td>[1994]</td>\n",
       "    </tr>\n",
       "    <tr>\n",
       "      <th>9</th>\n",
       "      <td>260</td>\n",
       "      <td>Star Wars: Episode IV - A New Hope (1977)</td>\n",
       "      <td>action adventure</td>\n",
       "      <td>2.6</td>\n",
       "      <td>space opera</td>\n",
       "      <td>sci-fi</td>\n",
       "      <td>[1977]</td>\n",
       "    </tr>\n",
       "  </tbody>\n",
       "</table>\n",
       "</div>"
      ],
      "text/plain": [
       "   movieId                                              title  \\\n",
       "0        2                                     Jumanji (1995)   \n",
       "1       29  City of Lost Children, The (Cité des enfants p...   \n",
       "2       32          Twelve Monkeys (a.k.a. 12 Monkeys) (1995)   \n",
       "3       47                        Seven (a.k.a. Se7en) (1995)   \n",
       "4       50                         Usual Suspects, The (1995)   \n",
       "5      112         Rumble in the Bronx (Hont faan kui) (1995)   \n",
       "6      151                                     Rob Roy (1995)   \n",
       "7      223                                      Clerks (1994)   \n",
       "8      253  Interview with the Vampire: The Vampire Chroni...   \n",
       "9      260          Star Wars: Episode IV - A New Hope (1977)   \n",
       "\n",
       "             genres  ratings_avg            relevant_genome_tag  \\\n",
       "0          children          3.7                      adventure   \n",
       "1           mystery          2.8                   dark fantasy   \n",
       "2           mystery          2.9                         future   \n",
       "3           mystery          3.0                  serial killer   \n",
       "4             crime          2.0  oscar (best supporting actor)   \n",
       "5  action adventure          3.7                   martial arts   \n",
       "6            action          3.0                       scotland   \n",
       "7            comedy          2.2                     view askew   \n",
       "8             drama          2.3                       vampires   \n",
       "9  action adventure          2.6                    space opera   \n",
       "\n",
       "  common_user_tag release_year  \n",
       "0  Robin Williams       [1995]  \n",
       "1            dark       [1995]  \n",
       "2     time travel       [1995]  \n",
       "3   serial killer       [1995]  \n",
       "4    twist ending       [1995]  \n",
       "5     Jackie Chan       [1995]  \n",
       "6    18th century       [1995]  \n",
       "7     Kevin Smith       [1994]  \n",
       "8        vampires       [1994]  \n",
       "9          sci-fi       [1977]  "
      ]
     },
     "metadata": {},
     "output_type": "display_data"
    }
   ],
   "source": [
    "import re\n",
    "def extract_numbers_from_title(title):\n",
    "    numbers = re.findall(r'\\((\\d+)\\)', title)\n",
    "    return numbers\n",
    "\n",
    "title_column['release_year'] = title_column['title'].apply(extract_numbers_from_title)\n",
    "title_column = title_column.drop( columns= ['title'])\n",
    "new_dataset = pd.merge(new_dataset, title_column, on='movieId', how='inner')\n",
    "new_dataset.head(10)"
   ]
  },
  {
   "cell_type": "code",
   "execution_count": null,
   "metadata": {},
   "outputs": [
    {
     "data": {
      "text/html": [
       "<div>\n",
       "<style scoped>\n",
       "    .dataframe tbody tr th:only-of-type {\n",
       "        vertical-align: middle;\n",
       "    }\n",
       "\n",
       "    .dataframe tbody tr th {\n",
       "        vertical-align: top;\n",
       "    }\n",
       "\n",
       "    .dataframe thead th {\n",
       "        text-align: right;\n",
       "    }\n",
       "</style>\n",
       "<table border=\"1\" class=\"dataframe\">\n",
       "  <thead>\n",
       "    <tr style=\"text-align: right;\">\n",
       "      <th></th>\n",
       "      <th>movieId</th>\n",
       "      <th>title</th>\n",
       "      <th>genres</th>\n",
       "      <th>ratings_avg</th>\n",
       "      <th>relevant_genome_tag</th>\n",
       "      <th>common_user_tag</th>\n",
       "      <th>release_year</th>\n",
       "    </tr>\n",
       "  </thead>\n",
       "  <tbody>\n",
       "    <tr>\n",
       "      <th>0</th>\n",
       "      <td>2</td>\n",
       "      <td>Jumanji</td>\n",
       "      <td>children</td>\n",
       "      <td>3.7</td>\n",
       "      <td>adventure</td>\n",
       "      <td>Robin Williams</td>\n",
       "      <td>[1995]</td>\n",
       "    </tr>\n",
       "    <tr>\n",
       "      <th>1</th>\n",
       "      <td>29</td>\n",
       "      <td>City of Lost Children, The (Cité des enfants p...</td>\n",
       "      <td>mystery</td>\n",
       "      <td>2.8</td>\n",
       "      <td>dark fantasy</td>\n",
       "      <td>dark</td>\n",
       "      <td>[1995]</td>\n",
       "    </tr>\n",
       "    <tr>\n",
       "      <th>2</th>\n",
       "      <td>32</td>\n",
       "      <td>Twelve Monkeys (a.k.a.  Monkeys)</td>\n",
       "      <td>mystery</td>\n",
       "      <td>2.9</td>\n",
       "      <td>future</td>\n",
       "      <td>time travel</td>\n",
       "      <td>[1995]</td>\n",
       "    </tr>\n",
       "    <tr>\n",
       "      <th>3</th>\n",
       "      <td>47</td>\n",
       "      <td>Seven (a.k.a. Seen)</td>\n",
       "      <td>mystery</td>\n",
       "      <td>3.0</td>\n",
       "      <td>serial killer</td>\n",
       "      <td>serial killer</td>\n",
       "      <td>[1995]</td>\n",
       "    </tr>\n",
       "    <tr>\n",
       "      <th>4</th>\n",
       "      <td>50</td>\n",
       "      <td>Usual Suspects, The</td>\n",
       "      <td>crime</td>\n",
       "      <td>2.0</td>\n",
       "      <td>oscar (best supporting actor)</td>\n",
       "      <td>twist ending</td>\n",
       "      <td>[1995]</td>\n",
       "    </tr>\n",
       "    <tr>\n",
       "      <th>5</th>\n",
       "      <td>112</td>\n",
       "      <td>Rumble in the Bronx (Hont faan kui)</td>\n",
       "      <td>action adventure</td>\n",
       "      <td>3.7</td>\n",
       "      <td>martial arts</td>\n",
       "      <td>Jackie Chan</td>\n",
       "      <td>[1995]</td>\n",
       "    </tr>\n",
       "    <tr>\n",
       "      <th>6</th>\n",
       "      <td>151</td>\n",
       "      <td>Rob Roy</td>\n",
       "      <td>action</td>\n",
       "      <td>3.0</td>\n",
       "      <td>scotland</td>\n",
       "      <td>18th century</td>\n",
       "      <td>[1995]</td>\n",
       "    </tr>\n",
       "    <tr>\n",
       "      <th>7</th>\n",
       "      <td>223</td>\n",
       "      <td>Clerks</td>\n",
       "      <td>comedy</td>\n",
       "      <td>2.2</td>\n",
       "      <td>view askew</td>\n",
       "      <td>Kevin Smith</td>\n",
       "      <td>[1994]</td>\n",
       "    </tr>\n",
       "    <tr>\n",
       "      <th>8</th>\n",
       "      <td>253</td>\n",
       "      <td>Interview with the Vampire: The Vampire Chroni...</td>\n",
       "      <td>drama</td>\n",
       "      <td>2.3</td>\n",
       "      <td>vampires</td>\n",
       "      <td>vampires</td>\n",
       "      <td>[1994]</td>\n",
       "    </tr>\n",
       "    <tr>\n",
       "      <th>9</th>\n",
       "      <td>260</td>\n",
       "      <td>Star Wars: Episode IV - A New Hope</td>\n",
       "      <td>action adventure</td>\n",
       "      <td>2.6</td>\n",
       "      <td>space opera</td>\n",
       "      <td>sci-fi</td>\n",
       "      <td>[1977]</td>\n",
       "    </tr>\n",
       "  </tbody>\n",
       "</table>\n",
       "</div>"
      ],
      "text/plain": [
       "   movieId                                              title  \\\n",
       "0        2                                           Jumanji    \n",
       "1       29  City of Lost Children, The (Cité des enfants p...   \n",
       "2       32                  Twelve Monkeys (a.k.a.  Monkeys)    \n",
       "3       47                               Seven (a.k.a. Seen)    \n",
       "4       50                               Usual Suspects, The    \n",
       "5      112               Rumble in the Bronx (Hont faan kui)    \n",
       "6      151                                           Rob Roy    \n",
       "7      223                                            Clerks    \n",
       "8      253  Interview with the Vampire: The Vampire Chroni...   \n",
       "9      260                Star Wars: Episode IV - A New Hope    \n",
       "\n",
       "             genres  ratings_avg            relevant_genome_tag  \\\n",
       "0          children          3.7                      adventure   \n",
       "1           mystery          2.8                   dark fantasy   \n",
       "2           mystery          2.9                         future   \n",
       "3           mystery          3.0                  serial killer   \n",
       "4             crime          2.0  oscar (best supporting actor)   \n",
       "5  action adventure          3.7                   martial arts   \n",
       "6            action          3.0                       scotland   \n",
       "7            comedy          2.2                     view askew   \n",
       "8             drama          2.3                       vampires   \n",
       "9  action adventure          2.6                    space opera   \n",
       "\n",
       "  common_user_tag release_year  \n",
       "0  Robin Williams       [1995]  \n",
       "1            dark       [1995]  \n",
       "2     time travel       [1995]  \n",
       "3   serial killer       [1995]  \n",
       "4    twist ending       [1995]  \n",
       "5     Jackie Chan       [1995]  \n",
       "6    18th century       [1995]  \n",
       "7     Kevin Smith       [1994]  \n",
       "8        vampires       [1994]  \n",
       "9          sci-fi       [1977]  "
      ]
     },
     "metadata": {},
     "output_type": "display_data"
    }
   ],
   "source": [
    "def remove_numbers_from_title(title):\n",
    "    clean_title = re.sub(r'\\(\\d+\\)', '', title)  \n",
    "    clean_title = re.sub(r'\\d+', '', clean_title) \n",
    "    return clean_title\n",
    "new_dataset['title'] = new_dataset['title'].apply(remove_numbers_from_title)\n",
    "new_dataset.head(10)\n"
   ]
  },
  {
   "cell_type": "markdown",
   "metadata": {},
   "source": [
    "> we create two columns `imdbId` e `tmdbId`."
   ]
  },
  {
   "cell_type": "code",
   "execution_count": null,
   "metadata": {},
   "outputs": [
    {
     "data": {
      "text/html": [
       "<div>\n",
       "<style scoped>\n",
       "    .dataframe tbody tr th:only-of-type {\n",
       "        vertical-align: middle;\n",
       "    }\n",
       "\n",
       "    .dataframe tbody tr th {\n",
       "        vertical-align: top;\n",
       "    }\n",
       "\n",
       "    .dataframe thead th {\n",
       "        text-align: right;\n",
       "    }\n",
       "</style>\n",
       "<table border=\"1\" class=\"dataframe\">\n",
       "  <thead>\n",
       "    <tr style=\"text-align: right;\">\n",
       "      <th></th>\n",
       "      <th>movieId</th>\n",
       "      <th>title</th>\n",
       "      <th>genres</th>\n",
       "      <th>ratings_avg</th>\n",
       "      <th>relevant_genome_tag</th>\n",
       "      <th>common_user_tag</th>\n",
       "      <th>release_year</th>\n",
       "      <th>imdbId</th>\n",
       "      <th>tmdbId</th>\n",
       "    </tr>\n",
       "  </thead>\n",
       "  <tbody>\n",
       "    <tr>\n",
       "      <th>0</th>\n",
       "      <td>2</td>\n",
       "      <td>Jumanji</td>\n",
       "      <td>children</td>\n",
       "      <td>3.7</td>\n",
       "      <td>adventure</td>\n",
       "      <td>Robin Williams</td>\n",
       "      <td>1995</td>\n",
       "      <td>113497</td>\n",
       "      <td>8844.0</td>\n",
       "    </tr>\n",
       "    <tr>\n",
       "      <th>1</th>\n",
       "      <td>29</td>\n",
       "      <td>City of Lost Children, The (Cité des enfants p...</td>\n",
       "      <td>mystery</td>\n",
       "      <td>2.8</td>\n",
       "      <td>dark fantasy</td>\n",
       "      <td>dark</td>\n",
       "      <td>1995</td>\n",
       "      <td>112682</td>\n",
       "      <td>902.0</td>\n",
       "    </tr>\n",
       "    <tr>\n",
       "      <th>2</th>\n",
       "      <td>32</td>\n",
       "      <td>Twelve Monkeys (a.k.a.  Monkeys)</td>\n",
       "      <td>mystery</td>\n",
       "      <td>2.9</td>\n",
       "      <td>future</td>\n",
       "      <td>time travel</td>\n",
       "      <td>1995</td>\n",
       "      <td>114746</td>\n",
       "      <td>63.0</td>\n",
       "    </tr>\n",
       "    <tr>\n",
       "      <th>3</th>\n",
       "      <td>47</td>\n",
       "      <td>Seven (a.k.a. Seen)</td>\n",
       "      <td>mystery</td>\n",
       "      <td>3.0</td>\n",
       "      <td>serial killer</td>\n",
       "      <td>serial killer</td>\n",
       "      <td>1995</td>\n",
       "      <td>114369</td>\n",
       "      <td>807.0</td>\n",
       "    </tr>\n",
       "    <tr>\n",
       "      <th>4</th>\n",
       "      <td>50</td>\n",
       "      <td>Usual Suspects, The</td>\n",
       "      <td>crime</td>\n",
       "      <td>2.0</td>\n",
       "      <td>oscar (best supporting actor)</td>\n",
       "      <td>twist ending</td>\n",
       "      <td>1995</td>\n",
       "      <td>114814</td>\n",
       "      <td>629.0</td>\n",
       "    </tr>\n",
       "    <tr>\n",
       "      <th>5</th>\n",
       "      <td>112</td>\n",
       "      <td>Rumble in the Bronx (Hont faan kui)</td>\n",
       "      <td>action adventure</td>\n",
       "      <td>3.7</td>\n",
       "      <td>martial arts</td>\n",
       "      <td>Jackie Chan</td>\n",
       "      <td>1995</td>\n",
       "      <td>113326</td>\n",
       "      <td>33542.0</td>\n",
       "    </tr>\n",
       "    <tr>\n",
       "      <th>6</th>\n",
       "      <td>151</td>\n",
       "      <td>Rob Roy</td>\n",
       "      <td>action</td>\n",
       "      <td>3.0</td>\n",
       "      <td>scotland</td>\n",
       "      <td>18th century</td>\n",
       "      <td>1995</td>\n",
       "      <td>114287</td>\n",
       "      <td>11780.0</td>\n",
       "    </tr>\n",
       "    <tr>\n",
       "      <th>7</th>\n",
       "      <td>223</td>\n",
       "      <td>Clerks</td>\n",
       "      <td>comedy</td>\n",
       "      <td>2.2</td>\n",
       "      <td>view askew</td>\n",
       "      <td>Kevin Smith</td>\n",
       "      <td>1994</td>\n",
       "      <td>109445</td>\n",
       "      <td>2292.0</td>\n",
       "    </tr>\n",
       "    <tr>\n",
       "      <th>8</th>\n",
       "      <td>253</td>\n",
       "      <td>Interview with the Vampire: The Vampire Chroni...</td>\n",
       "      <td>drama</td>\n",
       "      <td>2.3</td>\n",
       "      <td>vampires</td>\n",
       "      <td>vampires</td>\n",
       "      <td>1994</td>\n",
       "      <td>110148</td>\n",
       "      <td>628.0</td>\n",
       "    </tr>\n",
       "    <tr>\n",
       "      <th>9</th>\n",
       "      <td>260</td>\n",
       "      <td>Star Wars: Episode IV - A New Hope</td>\n",
       "      <td>action adventure</td>\n",
       "      <td>2.6</td>\n",
       "      <td>space opera</td>\n",
       "      <td>sci-fi</td>\n",
       "      <td>1977</td>\n",
       "      <td>76759</td>\n",
       "      <td>11.0</td>\n",
       "    </tr>\n",
       "  </tbody>\n",
       "</table>\n",
       "</div>"
      ],
      "text/plain": [
       "   movieId                                              title  \\\n",
       "0        2                                           Jumanji    \n",
       "1       29  City of Lost Children, The (Cité des enfants p...   \n",
       "2       32                  Twelve Monkeys (a.k.a.  Monkeys)    \n",
       "3       47                               Seven (a.k.a. Seen)    \n",
       "4       50                               Usual Suspects, The    \n",
       "5      112               Rumble in the Bronx (Hont faan kui)    \n",
       "6      151                                           Rob Roy    \n",
       "7      223                                            Clerks    \n",
       "8      253  Interview with the Vampire: The Vampire Chroni...   \n",
       "9      260                Star Wars: Episode IV - A New Hope    \n",
       "\n",
       "             genres  ratings_avg            relevant_genome_tag  \\\n",
       "0          children          3.7                      adventure   \n",
       "1           mystery          2.8                   dark fantasy   \n",
       "2           mystery          2.9                         future   \n",
       "3           mystery          3.0                  serial killer   \n",
       "4             crime          2.0  oscar (best supporting actor)   \n",
       "5  action adventure          3.7                   martial arts   \n",
       "6            action          3.0                       scotland   \n",
       "7            comedy          2.2                     view askew   \n",
       "8             drama          2.3                       vampires   \n",
       "9  action adventure          2.6                    space opera   \n",
       "\n",
       "  common_user_tag  release_year  imdbId   tmdbId  \n",
       "0  Robin Williams          1995  113497   8844.0  \n",
       "1            dark          1995  112682    902.0  \n",
       "2     time travel          1995  114746     63.0  \n",
       "3   serial killer          1995  114369    807.0  \n",
       "4    twist ending          1995  114814    629.0  \n",
       "5     Jackie Chan          1995  113326  33542.0  \n",
       "6    18th century          1995  114287  11780.0  \n",
       "7     Kevin Smith          1994  109445   2292.0  \n",
       "8        vampires          1994  110148    628.0  \n",
       "9          sci-fi          1977   76759     11.0  "
      ]
     },
     "metadata": {},
     "output_type": "display_data"
    }
   ],
   "source": [
    "# read the link.csv\n",
    "links = \"archive/link.csv\"\n",
    "link = pd.read_csv(links)\n",
    "# remove the empty link for both columns\n",
    "link = link.dropna()\n",
    "# add them \n",
    "new_dataset = pd.merge(new_dataset, link, on='movieId', how='inner')\n",
    "new_dataset['release_year'] = new_dataset['release_year'].apply(lambda x: int(x[0]))\n",
    "new_dataset.head(10)\n"
   ]
  },
  {
   "cell_type": "markdown",
   "metadata": {},
   "source": [
    "*Conclusion:*\n",
    "\n",
    "We have more than 8 features because there were some of them how had more informations, so splitting them we get a bigger view of the dataset"
   ]
  },
  {
   "cell_type": "markdown",
   "metadata": {},
   "source": [
    "### **2.2 Choose your features (variables)!**\n",
    "\n",
    "With multiple features available for the movies, you need to consider the following two questions: \n",
    "1. Should you normalize the data or leave it as is? \n",
    "2. Should you include all these features, or can you reduce the dimensionality of the data?\n",
    "\n",
    "1. What is the importance of normalizing the data in your analysis, and how does it impact the effectiveness of the clustering algorithms you plan to use?\n",
    "2. If you find that normalizing the values is beneficial, please proceed to normalize the data. To simplify this task, refer to the scikit-learn package for tools and functions that facilitate data normalization.\n",
    "3. Could you provide some insights on dimensionality reduction? What techniques would be effective for reducing the number of features in the dataset, and why might this be beneficial for the analysis?\n",
    "4. If you believe dimensionality reduction would be advantageous, please select a method to reduce the dimensionality of the data."
   ]
  },
  {
   "cell_type": "markdown",
   "metadata": {},
   "source": [
    "*ciao*"
   ]
  },
  {
   "cell_type": "code",
   "execution_count": null,
   "metadata": {},
   "outputs": [],
   "source": []
  },
  {
   "cell_type": "markdown",
   "metadata": {},
   "source": [
    "### **2.3 Clustering**\n",
    "\n",
    "Now that you have prepared the data, you can create the clusters."
   ]
  },
  {
   "cell_type": "markdown",
   "metadata": {},
   "source": [
    "\n",
    "1. How can you determine the optimal number of clusters for your data? Please use at least two methods and provide their results.\n"
   ]
  },
  {
   "cell_type": "code",
   "execution_count": null,
   "metadata": {},
   "outputs": [],
   "source": []
  },
  {
   "cell_type": "markdown",
   "metadata": {},
   "source": [
    "\n",
    "2. Implement the K-means clustering algorithm (not K-means++) through MapReduce. We request that you develop the algorithm from scratch based on what you've learned in class and run the algorithm on your data.\n"
   ]
  },
  {
   "cell_type": "code",
   "execution_count": null,
   "metadata": {},
   "outputs": [],
   "source": []
  },
  {
   "cell_type": "markdown",
   "metadata": {},
   "source": [
    "\n",
    "3. Implement the K-means++ algorithm from scratch and apply it to your data. Do you notice any differences between the results obtained using random initialization and those achieved with K-means++? Please explain your observations and discuss why these differences might occur.\n"
   ]
  },
  {
   "cell_type": "code",
   "execution_count": null,
   "metadata": {},
   "outputs": [],
   "source": []
  },
  {
   "cell_type": "markdown",
   "metadata": {},
   "source": [
    "\n",
    "4. Ask an LLM (ChatGPT, Claude AI, Gemini, Perplexity, etc.) to recommend another clustering algorithm. Use that LLM to describe the workings of the algorithm, as well as its advantages and disadvantages compared to K-means and K-means++. Additionally, ask to implement the algorithm for you or utilize an existing version from a package. Apply that algorithm to your data and explain any differences you observe in the results compared to those obtained previously."
   ]
  },
  {
   "cell_type": "code",
   "execution_count": null,
   "metadata": {},
   "outputs": [],
   "source": []
  },
  {
   "cell_type": "markdown",
   "metadata": {},
   "source": [
    "### **2.4 Best Algorithm**\n",
    "\n",
    "Clustering helps identify natural groupings within data, but no single algorithm works best for every dataset. In this section, you’ll learn how to choose the most suitable clustering method based on your data’s unique characteristics. By analyzing patterns and comparing results, you’ll uncover which algorithm provides the most meaningful insights and clusters."
   ]
  },
  {
   "cell_type": "markdown",
   "metadata": {},
   "source": [
    "1. Set the number of clusters to the optimal number $k_{opt}$ based on any of the methods previously."
   ]
  },
  {
   "cell_type": "code",
   "execution_count": null,
   "metadata": {},
   "outputs": [],
   "source": []
  },
  {
   "cell_type": "markdown",
   "metadata": {},
   "source": [
    "2. Select three distinct metrics to assess the quality of the clusters. Describe each metric in detail, including the specific aspects they evaluate to determine the effectiveness of the clustering model.\n"
   ]
  },
  {
   "cell_type": "code",
   "execution_count": null,
   "metadata": {},
   "outputs": [],
   "source": []
  },
  {
   "cell_type": "markdown",
   "metadata": {},
   "source": [
    "3. Apply the three clustering algorithms used in the prior section to partition the data into $k_{opt}$ clusters. Then, evaluate each model's clustering quality using the selected metrics. Summarize your findings by comparing the results of each algorithm based on the metric evaluations.\n"
   ]
  },
  {
   "cell_type": "code",
   "execution_count": null,
   "metadata": {},
   "outputs": [],
   "source": []
  },
  {
   "cell_type": "markdown",
   "metadata": {},
   "source": [
    "## **Bonus Question**\n",
    "___\n",
    "K-means is an iterative algorithm, meaning that with each iteration, it refines the clusters by adjusting them based on the distance of each data point relative to the center of each cluster. This process continues until it reaches a point of convergence or hits a set limit on the number of iterations. You might want to track the progress of forming your clusters."
   ]
  },
  {
   "cell_type": "markdown",
   "metadata": {},
   "source": [
    "1. Select two variables from your instances to display them on a 2D plot. Then, illustrate the progression of the clusters as they change at each iteration. We expect a plot for each iteration, displaying the instances and the clusters they belong to. Select the two features that most effectively separate visual instances belonging to different clusters. Explain the method you used to determine these features."
   ]
  },
  {
   "cell_type": "code",
   "execution_count": null,
   "metadata": {},
   "outputs": [],
   "source": []
  },
  {
   "cell_type": "markdown",
   "metadata": {},
   "source": [
    "## **4. Algorithmic Question**"
   ]
  },
  {
   "cell_type": "markdown",
   "metadata": {},
   "source": [
    "Two brilliant strategists, Arya and Mario, are about to play a game with a sequence of numbers. Arya, as player 1, begins the game, while Mario, player 2, plays 2nd. Their goal is clear: to collect the highest possible score by taking numbers from either end of the sequence, one at a time. They will play in perfect synchronicity, each seeking the advantage.\n",
    "\n",
    "The sequence represented as an array of `nums`, is laid out in front of them. Arya will start by selecting either the number at the beginning (`nums[0]`) or the end (`nums[nums.length - 1]`) of the array, adding that value to her score. This value is then removed from the beginning or the end of `nums`. Then, it’s Mario’s turn to do the same with the remaining sequence. The game proceeds this way, with each player taking numbers from either end until no numbers are left to claim. The player with the highest score wins.\n",
    "\n",
    "However, if they end in a tie, Arya, as the first to act, will claim victory by default.\n",
    "\n",
    "Arya is now before you, asking for help to predict her chances. She wants to know, with her best possible choices, whether she can guarantee a win, assuming both players play with perfect skill.\n"
   ]
  },
  {
   "cell_type": "markdown",
   "metadata": {},
   "source": [
    "\n",
    "- a) Help Arya by providing a pseudocode for finding an optimal playing strategy, that is, a strategy that maximizes her value. (Hint: Use recursion, assuming that both players play optimally).\n"
   ]
  },
  {
   "cell_type": "code",
   "execution_count": null,
   "metadata": {},
   "outputs": [],
   "source": []
  },
  {
   "cell_type": "markdown",
   "metadata": {},
   "source": [
    "\n",
    "- b) Write a Python program implementing her game strategy. Try different array lengths to test the algorithm.\n"
   ]
  },
  {
   "cell_type": "code",
   "execution_count": null,
   "metadata": {},
   "outputs": [],
   "source": []
  },
  {
   "cell_type": "markdown",
   "metadata": {},
   "source": [
    "\n",
    "- c) Is the algorithm efficient? Prove that it is polynomial and provide an asymptotic time complexity bound, or show that it requires exponential time.\n"
   ]
  },
  {
   "cell_type": "code",
   "execution_count": null,
   "metadata": {},
   "outputs": [],
   "source": []
  },
  {
   "cell_type": "markdown",
   "metadata": {},
   "source": [
    "\n",
    "- d) If the algorithm is exponential, explain how to make it polynomial and provide a pseudocode for it. Recompute the computational complexity of the updated algorithm.\n"
   ]
  },
  {
   "cell_type": "code",
   "execution_count": null,
   "metadata": {},
   "outputs": [],
   "source": []
  },
  {
   "cell_type": "markdown",
   "metadata": {},
   "source": [
    "\n",
    "- e) Implement the algorithm in Python. Compare your result values with the previous algorithm. Also compare the running times.\n"
   ]
  },
  {
   "cell_type": "code",
   "execution_count": null,
   "metadata": {},
   "outputs": [],
   "source": []
  },
  {
   "cell_type": "markdown",
   "metadata": {},
   "source": [
    "\n",
    "- f) Finally, consult LLM (ChatGPT, Claude AI, Gemini, Perplexity, etc.) to craft a third, optimized implementation and analyze its time complexity. Also, explain if the LLM is doing a good job and how you can evaluate whether the suggested solution works properly."
   ]
  },
  {
   "cell_type": "code",
   "execution_count": null,
   "metadata": {},
   "outputs": [],
   "source": []
  }
 ],
 "metadata": {
  "kernelspec": {
   "display_name": "Python 3",
   "language": "python",
   "name": "python3"
  },
  "language_info": {
   "codemirror_mode": {
    "name": "ipython",
    "version": 3
   },
   "file_extension": ".py",
   "mimetype": "text/x-python",
   "name": "python",
   "nbconvert_exporter": "python",
   "pygments_lexer": "ipython3",
   "version": "3.11.9"
  }
 },
 "nbformat": 4,
 "nbformat_minor": 2
}
